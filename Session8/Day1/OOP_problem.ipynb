{
 "cells": [
  {
   "cell_type": "markdown",
   "metadata": {},
   "source": [
    "# Building a Digital Orrery\n",
    "## An exercise in Object Oriented Programming\n",
    "\n",
    "**Version 0.1**\n",
    "\n",
    "It is your goal in this exercise to construct a Digital Orrery. An [orrery](https://en.wikipedia.org/wiki/Orrery) is a mechanical model of the Solar System. Here, we will generalize this to anything that is mechanically similar to *the* solar system: a collection of things bound gravitationally. \n",
    "\n",
    "\n",
    "<img src=\"https://upload.wikimedia.org/wikipedia/commons/4/48/Grand_orrery_in_Putnam_Gallery%2C_2009-11-24.jpg\" alt=\"Orrery\" width=\"600\"/>\n",
    "(image: wikimedia)\n",
    "\n",
    "\n",
    "* * *\n",
    "\n",
    "By J. S. Oishi (Bates College)"
   ]
  },
  {
   "cell_type": "code",
   "execution_count": 1,
   "metadata": {},
   "outputs": [],
   "source": [
    "import numpy as np\n",
    "import matplotlib.pyplot as plt\n",
    "\n",
    "%matplotlib notebook"
   ]
  },
  {
   "cell_type": "markdown",
   "metadata": {},
   "source": [
    "## Problem 1) Building a basic set of objects\n",
    "\n",
    "Our first task is to map our problem onto a set of **objects** that we **instantiate** (that is, make **instances** of) in order to solve our problem.\n",
    "\n",
    "Let's outline the scope of our problem.\n",
    "\n",
    "A solar system exists in a Universe; here we can ignore the gravitational perturbation on the Solar System from the rest of the Universe. Our model will consist of a small number of bodies containing mass. It might also contain bodies without mass, so called \"test particles\".\n",
    "\n",
    "The problem to be solved numerically is the gravitational N-body problem,\n",
    "\n",
    "$$\\ddot{\\mathbf{r}}_i = -G\\sum_{i \\ne j} \\frac{m_j \\mathbf{r}_{ij}}{r_{ij}^3},$$\n",
    "\n",
    "where $\\mathbf{r}_{ij} \\equiv \\mathbf{r_i} - \\mathbf{r_j}$. This task itself can be broken into two components: \n",
    "\n",
    "* the force calculation\n",
    "* the ODE integrator to advance $\\mathbf{r}_i$ and $\\dot{\\mathbf{r}}_i$ forward in time"
   ]
  },
  {
   "cell_type": "markdown",
   "metadata": {},
   "source": [
    "**Problem 1a**\n",
    "\n",
    "In disucssion with a classmate, sketch out a set of classes that you will need to complete this project. Don't worry about things like numerical integrators yet. \n",
    "\n",
    "Also, sketch out interfaces (start with the constructor), but don't worry about writing code right now.\n",
    "\n",
    "*Once you're done, find me and I'll give you the minimal list of objects.*"
   ]
  },
  {
   "cell_type": "code",
   "execution_count": 4,
   "metadata": {},
   "outputs": [],
   "source": [
    "class Body():\n",
    "    def __init__(self, mass, position, velocity):\n",
    "        self.m0 = mass\n",
    "        self.x0 = position[0]\n",
    "        self.y0 = position[1]\n",
    "        self.z0 = position[2]\n",
    "        self.vx0 = velocity[0]\n",
    "        self.vy0 = velocity[1]\n",
    "        self.vz0 = velocity[2]\n",
    "        \n",
    "        self.m = mass\n",
    "        self.x = position[0]\n",
    "        self.y = position[1]\n",
    "        self.z = position[2]\n",
    "        self.vx = velocity[0]\n",
    "        self.vy = velocity[1]\n",
    "        self.vz = velocity[2]\n",
    "        \n",
    "\n",
    "class System():\n",
    "    def __init__(self):\n",
    "        self.bodies = []\n",
    "    \n",
    "    def add_body(self, bodies):\n",
    "        self.bodies += [bodies]    \n",
    "        "
   ]
  },
  {
   "cell_type": "markdown",
   "metadata": {},
   "source": [
    "**Problem 1b**\n",
    "\n",
    "Wire them up! Now that you have the list, try them out. Python makes use of duck typing, you should too. That is, if your object has a mass `m`, a position `r` and a velocity `rdot`, it *is* a Body."
   ]
  },
  {
   "cell_type": "code",
   "execution_count": 5,
   "metadata": {},
   "outputs": [],
   "source": [
    "r0 = np.array([0,0,0])\n",
    "rdot0 = np.array([0,0,0])"
   ]
  },
  {
   "cell_type": "code",
   "execution_count": 6,
   "metadata": {},
   "outputs": [],
   "source": [
    "b = Body(1,r0, rdot0)"
   ]
  },
  {
   "cell_type": "code",
   "execution_count": 15,
   "metadata": {},
   "outputs": [
    {
     "data": {
      "text/plain": [
       "array([0, 0, 0])"
      ]
     },
     "execution_count": 15,
     "metadata": {},
     "output_type": "execute_result"
    }
   ],
   "source": [
    "s = System()\n",
    "s.add_body(b)"
   ]
  },
  {
   "cell_type": "markdown",
   "metadata": {},
   "source": [
    "## Problem 2\n",
    "\n",
    "Now, we code the numerical algorithms. We're going to do the most simple things possible: a *brute force* (\"direct N-Body\" if you're feeling fancy) force calculation, and a leapfrog time integrator.\n",
    "\n",
    "The leapfrog scheme is an explicit, second order scheme given by\n",
    "\n",
    "$$r_{i+1} = r_{i} + v_{i} \\Delta t + \\frac{\\Delta t^2}{2} a_{i}$$\n",
    "\n",
    "$$v_{i+1} = v_{i} + \\frac{\\Delta t}{2} (a_{i} + a_{i+1}),$$\n",
    "\n",
    "where $\\Delta t$ is the time step (which we'll just keep constant), and the subscript refers to the *iteration* number $i$. \n",
    "\n",
    "Note that this scheme requires a force update *in between* calculating $r_{i+1}$ and $v_{i+1}$."
   ]
  },
  {
   "cell_type": "markdown",
   "metadata": {},
   "source": [
    "**Problem 2a** \n",
    "\n",
    "Write a method that implements the force integrator. Test it on simple cases:\n",
    " * two equal 1 $M_\\odot$ objects in your universe, 1 AU apart\n",
    " * a $1\\ M_\\odot$ object and a $1\\ M_{\\oplus}$ object, 1 AU apart"
   ]
  },
  {
   "cell_type": "code",
   "execution_count": 35,
   "metadata": {},
   "outputs": [],
   "source": [
    "G = 4.3e-3    #pc, solar mass, km/s\n",
    "def acceleration(m, r):\n",
    "    acc = []\n",
    "    for i in range(len(m)):\n",
    "        rij = r[i] - np.concatenate([r[0:i], r[i+1:]])\n",
    "        mj = np.concatenate([m[0:i], m[i+1:]])\n",
    "        a_aux = -G * sum(mj * rij / rij**3)\n",
    "        \n",
    "        acc.append(a_aux)\n",
    "    \n",
    "    return acc"
   ]
  },
  {
   "cell_type": "code",
   "execution_count": 107,
   "metadata": {},
   "outputs": [],
   "source": [
    "class Body():\n",
    "    def __init__(self, mass, position, velocity):\n",
    "        self.m0 = mass\n",
    "        self.r0 = position\n",
    "        self.v0 = velocity\n",
    "\n",
    "        self.m = mass\n",
    "        self.r = position\n",
    "        self.v = velocity\n",
    "    \n",
    "class System():\n",
    "    def __init__(self):\n",
    "        self.bodies = []\n",
    "        \n",
    "    # Calculate acceleration for a body\n",
    "    def acc(self, i):\n",
    "        \n",
    "        list_others = np.concatenate([self.bodies[0:i], self.bodies[i+1:]])\n",
    "        \n",
    "        print(list_others.shape)\n",
    "        \n",
    "        mj = np.array([body.m for body in list_others])\n",
    "        ri = np.array(self.bodies[i].r)\n",
    "        rj = np.array([body.r for body in np.concatenate([self.bodies[0:i], self.bodies[i+1:]])])\n",
    "        \n",
    "        #We just one to sum in one direction\n",
    "        aa = -G * np.sum(mj * (ri - rj) / (ri - rj)**3)\n",
    "        \n",
    "        print('shape of acceleration for particle {}'.format(i))\n",
    "        print(np.shape(aa))\n",
    "        print('value of a = {}'.format(aa))\n",
    "        return aa\n",
    "        \n",
    "    \n",
    "    def add_body(self, bodies):\n",
    "        self.bodies += [bodies]\n",
    "        \n",
    "    def update(self, dt):\n",
    "        ai = [self.acc(i) for i in range(len(self.bodies))]\n",
    "        \n",
    "        print('Shape of acceleration for all particles')\n",
    "        print(np.shape(ai))\n",
    "        \n",
    "        #Update positions\n",
    "        for i, p in enumerate(self.bodies):\n",
    "            p.r = np.array(p.r) + np.array(p.v) * dt + dt **2 / 2 * np.array(a[i])\n",
    "        \n",
    "        #Calculate accelerations\n",
    "        aii = [self.acc(i) for i in range(len(self.bodies))]\n",
    "        \n",
    "        #Update velocities\n",
    "        for i, p in enumerate(self.bodies):\n",
    "            p.v = np.array(p.v) + dt / 2 * (np.array(ai[i]) + np.array(aii[i]))"
   ]
  },
  {
   "cell_type": "code",
   "execution_count": 108,
   "metadata": {},
   "outputs": [],
   "source": [
    "univ = System()\n",
    "\n",
    "b1 = Body(1,[0,0,0], [0,0,0])\n",
    "b2 = Body(1,[1,1,1], [0,0,0])\n",
    "\n",
    "univ.add_body(b1)\n",
    "univ.add_body(b2)"
   ]
  },
  {
   "cell_type": "code",
   "execution_count": 109,
   "metadata": {},
   "outputs": [
    {
     "name": "stdout",
     "output_type": "stream",
     "text": [
      "(1,)\n",
      "shape of acceleration for particle 0\n",
      "()\n",
      "value of a = -0.0129\n",
      "(1,)\n",
      "shape of acceleration for particle 1\n",
      "()\n",
      "value of a = -0.0129\n",
      "Shape of acceleration for all particles\n",
      "(2,)\n",
      "(1,)\n",
      "shape of acceleration for particle 0\n",
      "()\n",
      "value of a = -0.012771961090072032\n",
      "(1,)\n",
      "shape of acceleration for particle 1\n",
      "()\n",
      "value of a = -0.012771961090072032\n"
     ]
    }
   ],
   "source": [
    "univ.update(0.1)"
   ]
  },
  {
   "cell_type": "code",
   "execution_count": 96,
   "metadata": {},
   "outputs": [
    {
     "data": {
      "text/plain": [
       "[<matplotlib.lines.Line2D at 0x7f2f25861278>]"
      ]
     },
     "execution_count": 96,
     "metadata": {},
     "output_type": "execute_result"
    },
    {
     "data": {
      "image/png": "[encoded data removed]",
      "text/plain": [
       "<Figure size 432x288 with 1 Axes>"
      ]
     },
     "metadata": {
      "needs_background": "light"
     },
     "output_type": "display_data"
    }
   ],
   "source": [
    "plt.plot(univ.bodies[0].r0[0], univ.bodies[0].r0[1], 'rs', markersize = 12)\n",
    "plt.plot(univ.bodies[1].r0[0], univ.bodies[1].r0[1], 'bs', markersize = 12)\n",
    "\n",
    "for i in range(100):\n",
    "    univ.update(1)\n",
    "    plt.plot(univ.bodies[0].r[0], univ.bodies[0].r[1], 'r*', alpha = 0.3)\n",
    "    plt.plot(univ.bodies[1].r[0], univ.bodies[1].r[1], 'b*', alpha = 0.3)\n",
    "    \n",
    "univ.update(1)\n",
    "plt.plot(univ.bodies[0].r[0], univ.bodies[0].r[1], 'ro', markersize = 12)\n",
    "plt.plot(univ.bodies[1].r[0], univ.bodies[1].r[1], 'bo', markersize = 12)"
   ]
  },
  {
   "cell_type": "code",
   "execution_count": null,
   "metadata": {},
   "outputs": [],
   "source": [
    "# The solution??\n",
    "# using pass to just create the general structure of a program\n",
    "#and how classes and methods interact with each other\n",
    "\n",
    "class SolarSystem():\n",
    "    def __init__():\n",
    "        self.particles = []\n",
    "    def advance(self, dt):\n",
    "        for p in self.particles:\n",
    "            pass\n",
    "    def force(self, i):\n",
    "        pass\n",
    "        \n",
    "class Body():\n",
    "    self.m =\n",
    "    self.r =\n",
    "    self.v =\n",
    "    "
   ]
  },
  {
   "cell_type": "markdown",
   "metadata": {
    "collapsed": true
   },
   "source": [
    "**Problem 2b**\n",
    "Write the leapfrog integration as a method in the `Universe` class. Test it on one particle with no force (what should it do?)"
   ]
  },
  {
   "cell_type": "code",
   "execution_count": null,
   "metadata": {},
   "outputs": [],
   "source": []
  },
  {
   "cell_type": "markdown",
   "metadata": {},
   "source": [
    "**Problem 2c** \n",
    " \n",
    "Wire it all up! Try a 3-body calculation of the Earth-Sun-Moon system. Try the Earth-Jupiter-Sun system! "
   ]
  },
  {
   "cell_type": "markdown",
   "metadata": {},
   "source": [
    "## Challenge Problem\n",
    "\n",
    "* Construct a visualization method for the `Universe` class\n",
    "* Read about the Fast Multipole Method (FMM) [here](https://math.nyu.edu/faculty/greengar/shortcourse_fmm.pdf) and implement one for the force calculation"
   ]
  },
  {
   "cell_type": "code",
   "execution_count": null,
   "metadata": {},
   "outputs": [],
   "source": [
    "# good luck!"
   ]
  }
 ],
 "metadata": {
  "kernelspec": {
   "display_name": "Python 3",
   "language": "python",
   "name": "python3"
  },
  "language_info": {
   "codemirror_mode": {
    "name": "ipython",
    "version": 3
   },
   "file_extension": ".py",
   "mimetype": "text/x-python",
   "name": "python",
   "nbconvert_exporter": "python",
   "pygments_lexer": "ipython3",
   "version": "3.6.6"
  }
 },
 "nbformat": 4,
 "nbformat_minor": 2
}
