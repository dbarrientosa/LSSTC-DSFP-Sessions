{
 "cells": [
  {
   "cell_type": "code",
   "execution_count": 1,
   "metadata": {
    "slideshow": {
     "slide_type": "skip"
    }
   },
   "outputs": [],
   "source": [
    "import numpy as np\n",
    "import pandas as pd\n",
    "import matplotlib.pyplot as plt\n",
    "\n",
    "%matplotlib notebook"
   ]
  },
  {
   "cell_type": "markdown",
   "metadata": {
    "slideshow": {
     "slide_type": "slide"
    }
   },
   "source": [
    "# This Laptop Is Inadequate:\n",
    "# An Aperitif for DSFP Session 8\n",
    "\n",
    "**Version 0.1**\n",
    "\n",
    "By AA Miller 2019 Mar 24"
   ]
  },
  {
   "cell_type": "markdown",
   "metadata": {
    "slideshow": {
     "slide_type": "slide"
    }
   },
   "source": [
    "When I think about LSST there are a few numbers that always stick in my head: \n",
    "\n",
    "  -  37 billion (the total number of sources that will be detected by LSST)\n",
    "  -  10 (the number of years for the baseline survey)\n",
    "  -  1000 (~the number of observations per source)\n",
    "  -  37 trillion ($37 \\times 10^9 \\times 10^4$ = the total number of source observations)"
   ]
  },
  {
   "cell_type": "markdown",
   "metadata": {
    "slideshow": {
     "slide_type": "slide"
    }
   },
   "source": [
    "These numbers are *eye-popping*, though the truth is that there are now several astronomical databases that have $\\sim{10^9}$ sources (e.g., PanSTARRS-1, which we will hear more about later today). \n",
    "\n",
    "A pressing question, for current and future surveys, is: how are we going to deal with all that data?"
   ]
  },
  {
   "cell_type": "markdown",
   "metadata": {
    "slideshow": {
     "slide_type": "slide"
    }
   },
   "source": [
    "If you're anything like me - then, you love your laptop. \n",
    "\n",
    "And if you had it your way, you wouldn't need anything but your laptop... ever.\n",
    "\n",
    "But is that practical?"
   ]
  },
  {
   "cell_type": "markdown",
   "metadata": {
    "slideshow": {
     "slide_type": "slide"
    }
   },
   "source": [
    "## Problem 1) The Inadequacy of Laptops"
   ]
  },
  {
   "cell_type": "markdown",
   "metadata": {
    "slideshow": {
     "slide_type": "slide"
    }
   },
   "source": [
    "**Problem 1a**\n",
    "\n",
    "Suppose you could describe every source detected by LSST with a single number. Assuming you are on a computer with a 64 bit architecture, to within an order of magnitude, how much RAM would you need to store every LSST source within your laptop's memory?\n",
    "\n",
    "*Bonus question* - can you think of a single number to describe every source in LSST that could produce a meaningful science result?\n",
    "\n",
    "*Take a minute to discuss with your partner*"
   ]
  },
  {
   "cell_type": "markdown",
   "metadata": {
    "slideshow": {
     "slide_type": "slide"
    }
   },
   "source": [
    "**Solution 1a**\n"
   ]
  },
  {
   "cell_type": "code",
   "execution_count": null,
   "metadata": {},
   "outputs": [],
   "source": []
  },
  {
   "cell_type": "markdown",
   "metadata": {
    "slideshow": {
     "slide_type": "slide"
    }
   },
   "source": [
    "As for a single number to perform useful science, I can think of two. \n",
    "\n",
    "First - you could generate a [heirarchical triangular mesh](http://www.skyserver.org/HTM/) with enough trixels to characterize every LSST resolution element on the night sky. Then you could assign a number to each trixel, and describe the position of every source in LSST with a single number. Under the assumption that every source detected by LSST is a galaxy, this is not a terrible assumption, you could look at the clustering of these positions to (potentially) learn things about structure formation or galaxy formation (though without redshifts you may not learn all that much).\n",
    "\n",
    "The other number is the flux (or magnitude) of every source in a single filter. Again, under the assumption that everything is a galaxy, the number counts (i.e. a histogram) of the flux measurements tells you a bit about the Universe. "
   ]
  },
  {
   "cell_type": "markdown",
   "metadata": {
    "slideshow": {
     "slide_type": "slide"
    }
   },
   "source": [
    "It probably isn't a shock that you won't be able to analyze every individual LSST source on your laptop."
   ]
  },
  {
   "cell_type": "markdown",
   "metadata": {
    "slideshow": {
     "slide_type": "subslide"
    }
   },
   "source": [
    "But that raises the question - how should you analyze LSST data?\n",
    "\n",
    "  -  By buying a large desktop?\n",
    "  -  On a local or national supercomputer?\n",
    "  -  In the cloud?\n",
    "  -  On computers that LSST hosts/maintains?"
   ]
  },
  {
   "cell_type": "markdown",
   "metadata": {
    "slideshow": {
     "slide_type": "subslide"
    }
   },
   "source": [
    "But that raises the question - how should you analyze LSST data?\n",
    "\n",
    "  -  By buying a large desktop? (impractical to ask of everyone working on LSST)\n",
    "  -  On a local supercomputer? (not a bad idea, but not necessarily equitable)\n",
    "  -  In the cloud? (AWS is expensive)\n",
    "  -  On computers that LSST hosts/maintains? (probably the most fair, but this also has challenges)"
   ]
  },
  {
   "cell_type": "markdown",
   "metadata": {
    "slideshow": {
     "slide_type": "subslide"
    }
   },
   "source": [
    "We will discuss some of these issues a bit later in the week..."
   ]
  },
  {
   "cell_type": "markdown",
   "metadata": {
    "slideshow": {
     "slide_type": "slide"
    }
   },
   "source": [
    "## Problem 2) Laptop or Not You Should Be Worried About the Data"
   ]
  },
  {
   "cell_type": "markdown",
   "metadata": {
    "slideshow": {
     "slide_type": "slide"
    }
   },
   "source": [
    "### Pop quiz\n",
    "\n",
    "We will now re-visit a question from a previous session:"
   ]
  },
  {
   "cell_type": "markdown",
   "metadata": {
    "slideshow": {
     "slide_type": "subslide"
    }
   },
   "source": [
    "**Problem 2a**\n",
    "\n",
    "What is data?\n",
    "\n",
    "*Take a minute to discuss with your partner*"
   ]
  },
  {
   "cell_type": "markdown",
   "metadata": {},
   "source": [
    "**Our Answer:** Information about something (that we measure)"
   ]
  },
  {
   "cell_type": "markdown",
   "metadata": {
    "slideshow": {
     "slide_type": "subslide"
    }
   },
   "source": [
    "**Solution 2a**\n",
    "\n"
   ]
  },
  {
   "cell_type": "markdown",
   "metadata": {},
   "source": [
    "Constants"
   ]
  },
  {
   "cell_type": "markdown",
   "metadata": {
    "slideshow": {
     "slide_type": "subslide"
    }
   },
   "source": [
    "This leads to another question: \n",
    "\n",
    "Q - What is the defining property of a constant?"
   ]
  },
  {
   "cell_type": "markdown",
   "metadata": {
    "slideshow": {
     "slide_type": "subslide"
    }
   },
   "source": [
    "A - They don't change."
   ]
  },
  {
   "cell_type": "markdown",
   "metadata": {
    "slideshow": {
     "slide_type": "slide"
    }
   },
   "source": [
    "If data are constants, and constants don't change, then we should probably be sure that our data storage solutions do not alter the data in any way. "
   ]
  },
  {
   "cell_type": "markdown",
   "metadata": {
    "slideshow": {
     "slide_type": "subslide"
    }
   },
   "source": [
    "Within the data science community, the python [`pandas`](https://pandas.pydata.org/) package is particularly popular for reading, writing, and manipulating data (we will talk more about the utility of `pandas` later). \n",
    "\n",
    "The `pandas` docs state the `read_csv()` method is the [workhorse function for reading text files](http://pandas.pydata.org/pandas-docs/stable/user_guide/io.html#csv-text-files). Let's now take a look at how well this workhorse \"maintains the constant nature of data\". "
   ]
  },
  {
   "cell_type": "markdown",
   "metadata": {
    "slideshow": {
     "slide_type": "slide"
    }
   },
   "source": [
    "**Problem 2b**\n",
    "\n",
    "Create a `numpy` array, called `nums`, of length 10000 filled with random numbers. Create a `pandas` `Series` object, called `s`, based on that array, and then write the `Series` to a file called `tmp.txt` using the `to_csv()` method.\n",
    "\n",
    "*Hint* - you'll need to name the `Series` and add the `header=True` option to the `to_csv()` call."
   ]
  },
  {
   "cell_type": "code",
   "execution_count": 8,
   "metadata": {
    "slideshow": {
     "slide_type": "subslide"
    }
   },
   "outputs": [],
   "source": [
    "nums = np.random.random(10000)\n",
    "s = pd.Series(nums, name = 'nums')\n",
    "\n",
    "s.to_csv('tmp.txt', header=True, index=False)"
   ]
  },
  {
   "cell_type": "markdown",
   "metadata": {
    "slideshow": {
     "slide_type": "slide"
    }
   },
   "source": [
    "**Problem 2c**\n",
    "\n",
    "Using the `pandas` `read_csv()` method, read in the data to a new variable, called `s_read`. Do you expect `s_read` and `nums` to be the same? Check whether or not your expectations are correct. \n",
    "\n",
    "*Hint* - take the sum of the difference not equal to zero to identify if any elements are not the same."
   ]
  },
  {
   "cell_type": "code",
   "execution_count": 14,
   "metadata": {
    "slideshow": {
     "slide_type": "subslide"
    }
   },
   "outputs": [
    {
     "data": {
      "text/plain": [
       "False"
      ]
     },
     "execution_count": 14,
     "metadata": {},
     "output_type": "execute_result"
    }
   ],
   "source": [
    "s_read = pd.read_csv('tmp.txt')\n",
    "\n",
    "np.all(s_read.nums.values == nums)"
   ]
  },
  {
   "cell_type": "code",
   "execution_count": 19,
   "metadata": {},
   "outputs": [
    {
     "data": {
      "text/plain": [
       "2242"
      ]
     },
     "execution_count": 19,
     "metadata": {},
     "output_type": "execute_result"
    }
   ],
   "source": [
    "np.sum(s_read.nums - nums != 0)"
   ]
  },
  {
   "cell_type": "code",
   "execution_count": 20,
   "metadata": {},
   "outputs": [
    {
     "data": {
      "image/png": "[encoded data removed]",
      "text/plain": [
       "<Figure size 432x288 with 1 Axes>"
      ]
     },
     "metadata": {
      "needs_background": "light"
     },
     "output_type": "display_data"
    }
   ],
   "source": [
    "plt.hist(s_read.nums - nums, 100)\n",
    "plt.xlabel('s_read - nums')\n",
    "plt.yscale('log')"
   ]
  },
  {
   "cell_type": "markdown",
   "metadata": {
    "slideshow": {
     "slide_type": "subslide"
    }
   },
   "source": [
    "So, it turns out that $\\sim{23}\\%$ of the time, `pandas` does not in fact read in the same number that it wrote to disk.\n",
    "\n",
    "The truth is that these differences are quite small (see next slide), but there are many mathematical operations (e.g., subtraction of very similar numbers) that may lead these tiny differences to compound over time such that your data are not, in fact, constant."
   ]
  },
  {
   "cell_type": "code",
   "execution_count": 21,
   "metadata": {
    "slideshow": {
     "slide_type": "subslide"
    }
   },
   "outputs": [
    {
     "name": "stdout",
     "output_type": "stream",
     "text": [
      "2.220446049250313e-16\n"
     ]
    }
   ],
   "source": [
    "print(np.max(np.abs(nums - s_read['nums'].values)))"
   ]
  },
  {
   "cell_type": "markdown",
   "metadata": {
    "slideshow": {
     "slide_type": "slide"
    }
   },
   "source": [
    "So, what is going on?\n",
    "\n",
    "Sometimes, when you convert a number to ASCII (i.e. text) format, there is some precision that is lost in that conversion. "
   ]
  },
  {
   "cell_type": "markdown",
   "metadata": {
    "slideshow": {
     "slide_type": "subslide"
    }
   },
   "source": [
    "How do you avoid this?\n",
    "\n",
    "**One way is to directly write your files in binary.** To do so has serveral advantages: it is possible to reproduce byte level **accuracy**, and, binary storage is almost always more **efficient than text storage** (the same number can be written in binary with less space than in ascii). "
   ]
  },
  {
   "cell_type": "markdown",
   "metadata": {
    "slideshow": {
     "slide_type": "subslide"
    }
   },
   "source": [
    "The downside is that developing your own procedure to write data in binary is a pain, and it places strong constraints on where and how you can interact with the data once it has been written to disk. \n",
    "\n",
    "Fortuantely, we live in a world with `pandas`. All this hard work has been done for you, as `pandas` naturally interfaces with the [`hdf5`](https://www.hdfgroup.org/solutions/hdf5/) binary table format. (You may want to also take a look at [`pyTables`](https://www.pytables.org/))\n",
    "\n",
    "(Historically astronomers have used [FITS](https://fits.gsfc.nasa.gov/fits_primer.html) files as a binary storage solution) "
   ]
  },
  {
   "cell_type": "markdown",
   "metadata": {
    "slideshow": {
     "slide_type": "slide"
    }
   },
   "source": [
    "**Problem 2d**\n",
    "\n",
    "Repeat your procedure from above, but instead of writing to a csv file, use the `pandas` `to_hdf()` and `read_df()` method to see if there are any differences in `s` and `s_read`.  \n",
    "\n",
    "*Hint* - You will need to specify a name for the table that you have written to the `hdf5` file in the call to `to_hdf()` as a required argument. Any string will do.\n",
    "\n",
    "*Hint 2* - Use `s_read.values` instead of `s_read['nums'].values`."
   ]
  },
  {
   "cell_type": "code",
   "execution_count": 26,
   "metadata": {
    "slideshow": {
     "slide_type": "subslide"
    }
   },
   "outputs": [
    {
     "data": {
      "text/plain": [
       "True"
      ]
     },
     "execution_count": 26,
     "metadata": {},
     "output_type": "execute_result"
    }
   ],
   "source": [
    "s.to_hdf('tmp.h5', 'nums') # complete\n",
    "s_read = pd.read_hdf('tmp.h5')# complete\n",
    "\n",
    "np.all(s_read.values == nums)"
   ]
  },
  {
   "cell_type": "code",
   "execution_count": 28,
   "metadata": {},
   "outputs": [
    {
     "name": "stderr",
     "output_type": "stream",
     "text": [
      "/home/daniela/anaconda3/envs/DSFP/lib/python3.6/site-packages/matplotlib/axes/_base.py:3364: UserWarning: Attempting to set identical bottom==top results\n",
      "in singular transformations; automatically expanding.\n",
      "bottom=10000.0, top=10000.0\n",
      "  self.set_ylim(upper, lower, auto=None)\n"
     ]
    },
    {
     "data": {
      "image/png": "[encoded data removed]",
      "text/plain": [
       "<Figure size 432x288 with 1 Axes>"
      ]
     },
     "metadata": {
      "needs_background": "light"
     },
     "output_type": "display_data"
    }
   ],
   "source": [
    "plt.hist(s_read.values - nums, 100)\n",
    "plt.xlabel('s_read - nums')\n",
    "plt.yscale('log')"
   ]
  },
  {
   "cell_type": "markdown",
   "metadata": {
    "slideshow": {
     "slide_type": "slide"
    }
   },
   "source": [
    "So, if you are using `pandas` anyway, and if you aren't using `pandas` –– check it out!, then I strongly suggest removing csv files from your workflow to instead focus on binary hdf5 files. This requires typing the same number of characters, but it ensures byte level reproducibility.  \n",
    "\n",
    "And reproducibiliy is the pillar upon which the scientific method is built. "
   ]
  },
  {
   "cell_type": "markdown",
   "metadata": {
    "slideshow": {
     "slide_type": "subslide"
    }
   },
   "source": [
    "Is that the end of the story? ... No.\n",
    "\n",
    "In the previous example, I was being a little tricky in order to make a point. It *is* in fact possible to create reproducible csv files with `pandas`. By default, `pandas` sacrifices a little bit of precision in order to gain a lot more speed. If you want to ensure reproducibility then you can specify that the `float_precision` should be `round_trip`, meaning you get the same thing back after reading from a file that you wrote to disk. "
   ]
  },
  {
   "cell_type": "code",
   "execution_count": 30,
   "metadata": {
    "slideshow": {
     "slide_type": "subslide"
    }
   },
   "outputs": [
    {
     "data": {
      "text/plain": [
       "0"
      ]
     },
     "execution_count": 30,
     "metadata": {},
     "output_type": "execute_result"
    }
   ],
   "source": [
    "s.to_csv('tmp.txt', header=True, index=False)\n",
    "\n",
    "s_read = pd.read_csv('tmp.txt', float_precision='round_trip')\n",
    "\n",
    "sum(nums - s_read['nums'].values != 0)"
   ]
  },
  {
   "cell_type": "markdown",
   "metadata": {
    "slideshow": {
     "slide_type": "slide"
    }
   },
   "source": [
    "So was all of this in service of a lie?\n",
    "\n",
    "No. What I said before remains true - text files do not guarantee byte level precision, and they take more space on disk. Text files have some advantages:\n",
    "\n",
    "  -  anyone, anywhere, on any platform can easily manipulate text files\n",
    "  -  text files can be easily inspected (and corrected) if necessary\n",
    "  -  special packages are needed to read/write in binary\n",
    "  -  binary files, which are not easily interpretable, are difficult to use in version control (and banned by some version control platforms)"
   ]
  },
  {
   "cell_type": "markdown",
   "metadata": {
    "slideshow": {
     "slide_type": "subslide"
    }
   },
   "source": [
    "To summarize, here is my advice: think of binary as your (new?) default for storing data.\n",
    "\n",
    "But, as with all things, consider your audience: if you are sharing/working with people that won't be able to deal with binary data, or, you have an incredibly small amount of data, csv (or other text files) should be fine."
   ]
  },
  {
   "cell_type": "markdown",
   "metadata": {
    "slideshow": {
     "slide_type": "subslide"
    }
   },
   "source": [
    "## Problem 3) Binary or ASCII - Doesn't Matter if You Aren't Organized"
   ]
  },
  {
   "cell_type": "markdown",
   "metadata": {
    "slideshow": {
     "slide_type": "slide"
    }
   },
   "source": [
    "While the reproducibility of data is essential, ultimately, concerns about binary vs ascii are useless if you cannot access the data you need *when* you need it.\n",
    "\n",
    "Your data are valuable (though cheaper to acquire than ever before), which means you need a good solution for managing that data, or else you are going to run into a significant loss of time and money."
   ]
  },
  {
   "cell_type": "markdown",
   "metadata": {
    "slideshow": {
     "slide_type": "slide"
    }
   },
   "source": [
    "**Problem 3a**\n",
    "\n",
    "How would you organize the following: (a) 3 very deep images of a galaxy, (b) 4 nights of optical observations ($\\sim$50 images night$^{-1}$) of a galaxy cluster in the $ugrizY$ filters, (c) images from a 50 night time-domain survey ($\\sim$250 images night$^{-1}$) covering 1000 deg$^2$?\n",
    "\n",
    "Similarly, how would you organize: (a) photometric information for your galaxy observations, (b) photometry for all the galaxies in your cluster field, (c) the observations/light curves from your survey?\n",
    "\n",
    "*Take a minute to discuss with your partner*"
   ]
  },
  {
   "cell_type": "markdown",
   "metadata": {
    "slideshow": {
     "slide_type": "subslide"
    }
   },
   "source": [
    "**My Solution 3a**\n",
    "\n",
    "paper on data structure: 1703.04695  (tree structure)"
   ]
  },
  {
   "cell_type": "markdown",
   "metadata": {
    "slideshow": {
     "slide_type": "subslide"
    }
   },
   "source": [
    "Keeping in mind that there are several suitable answers to each of these questions, here are a few thoughts: (a) the 3 images should be kept together, probably in a single file directory. (b) With 200 images taken over the course of 4 nights, I would create a directory structure that includes every night (top level), with sub-directories based on the individual filters. (c) Similar to (b), I'd create a tree-based file structure, though given that the primary science is time variability, I would likely organize the observations by fieldID at the top level, then by filter and date after that. \n",
    "\n",
    "As a final note - for each of these data sets, backups are essential! There should be no risk of a single point failure wiping away all that information for good."
   ]
  },
  {
   "cell_type": "markdown",
   "metadata": {
    "slideshow": {
     "slide_type": "subslide"
    }
   },
   "source": [
    "The photometric data requires more than just a file structure. In all three cases I would want to store everything in a single file (so directories are not necessary). \n",
    "\n",
    "For 3 observations of a single galaxy, I would use... a text file (not worth the trouble for binary storage)\n",
    "\n",
    "Assuming there are 5000 galaxies in the cluster field, I would store the photometric information that I extract for those galaxies in a *table*. In this table, each row would represent a single galaxy, while the columns would include brightness/shape measurements for the galaxies in each of the observed filters. I would organize this table as a `pandas` DataFrame (and write it to an hdf5 file). "
   ]
  },
  {
   "cell_type": "markdown",
   "metadata": {
    "slideshow": {
     "slide_type": "subslide"
    }
   },
   "source": [
    "For the time-domain survey, the organization of all the photometric information is far less straight forward.\n",
    "\n",
    "Could you use a single table? Yes. Though this would be highly inefficient given that not all sources were observed at the same time. The table would then need columns like `obs1_JD`, `obs1_flux`, `obs1_flux_unc`, `obs2_JD`, `obs2_flux`, `obs2_flux_unc`, ..., all the way up to $N$, the maximum number of observations of any individual source. This will lead to several columns that are empty for several sources. "
   ]
  },
  {
   "cell_type": "markdown",
   "metadata": {
    "slideshow": {
     "slide_type": "subslide"
    }
   },
   "source": [
    "I would instead use a collection of tables. First, a master source table:\n",
    "\n",
    "|objID|RA|Dec|mean_mag|mean_mag_unc|\n",
    "|:--:|:--:|:--:|:--:|:--:|\n",
    "|0001|246.98756|-12.06547|18.35|0.08|\n",
    "|0002|246.98853|-12.04325|19.98|0.21|\n",
    "|.|.|.|.|.|\n",
    "|.|.|.|.|.|\n",
    "|.|.|.|.|.|"
   ]
  },
  {
   "cell_type": "markdown",
   "metadata": {
    "slideshow": {
     "slide_type": "subslide"
    }
   },
   "source": [
    "Coupled with a table holding the individual flux measurements:\n",
    "\n",
    "|objID|JD|filt|mag|mag_unc|\n",
    "|:--:|:--:|:--:|:--:|:--:|\n",
    "|0001|2456785.23465|r|18.21|0.07|\n",
    "|0001|2456785.23469|z|17.81|0.12|\n",
    "|.|.|.|.|.|\n",
    "|.|.|.|.|.|\n",
    "|.|.|.|.|.|\n",
    "|0547|2456821.36900|g|16.04|0.02|\n",
    "|0547|2456821.36906|i|17.12|0.05|\n",
    "|.|.|.|.|.|\n",
    "|.|.|.|.|.|\n",
    "|.|.|.|.|.|"
   ]
  },
  {
   "cell_type": "markdown",
   "metadata": {
    "slideshow": {
     "slide_type": "subslide"
    }
   },
   "source": [
    "The critical thing to notice about these tables is that they both contain `objID`. That information allows us to connect the tables via a \"join\". This table, or relational, structure allows us to easily connect subsets of the data as way to minimize storage (relative to having everything in a single table) while also maintaining computational speed."
   ]
  },
  {
   "cell_type": "markdown",
   "metadata": {
    "slideshow": {
     "slide_type": "slide"
    }
   },
   "source": [
    "Typically, when astronomers (or data scientists) need to organize data into several connected tables capable of performing fast relational algebra operations they use a database. We will hear a lot more about databases over the next few days, so I won't provide a detailed introduction now. \n",
    "\n",
    "One very nice property of (many) database systems is that provide an efficient means for searching large volumes of data that cannot be stored in memory (recall problem **1a**). Whereas, your laptop, or even a specialized high-memory computer, would not be able to open a csv file with all the LSST observations in it. "
   ]
  },
  {
   "cell_type": "markdown",
   "metadata": {
    "slideshow": {
     "slide_type": "subslide"
    }
   },
   "source": [
    "Another quick aside –– `pandas` can deal with files that are too large to fit in memory by loading a portion of the file at a time:\n",
    "\n",
    "    light_curves = pd.read_csv(lc_csv_file, chunksize=100000)\n",
    "\n",
    "If you are building a data structure where loading the data in \"chunks\" is necessary, I would strongly advise considering an alternative to storing the data in a csv file. "
   ]
  },
  {
   "cell_type": "markdown",
   "metadata": {
    "slideshow": {
     "slide_type": "slide"
    }
   },
   "source": [
    "A question you may currently be wondering is: why has there been such an intense focus on `pandas` today?\n",
    "\n",
    "The short answer: the developers of `pandas` wanted to create a product that is good at relational algebra (like traditional database tools) but with lower overhead in construction, and a lot more flexibility (which is essential in a world of heterogeneous data storage and management, see Tuesday's lecture on Data Wrangling). \n",
    "\n",
    "(You'll get several chances to practice working with databases throughout the week)"
   ]
  },
  {
   "cell_type": "markdown",
   "metadata": {
    "slideshow": {
     "slide_type": "slide"
    }
   },
   "source": [
    "We will now run through a few examples that highlight how `pandas` can be used in a manner similar to a relational database. Throughout the week, as you think about your own data management needs, I think the critical thing to consider is scope. Can my data be organized into something that is smaller than a full-on database?"
   ]
  },
  {
   "cell_type": "markdown",
   "metadata": {
    "slideshow": {
     "slide_type": "slide"
    }
   },
   "source": [
    "**Problem 3b**\n",
    "\n",
    "Download the [SDSS data set](https://northwestern.box.com/s/sjegm0tx62l2i8dkzqw22s4gmq1a9sg1) that will be used in the exercises for tomorrow. \n",
    "\n",
    "Read that data, stored in a csv file, into a `pandas` DataFrame called `sdss_spec`."
   ]
  },
  {
   "cell_type": "markdown",
   "metadata": {
    "slideshow": {
     "slide_type": "skip"
    }
   },
   "source": [
    "In a lecture where I have spent a great deal of time describing the value of binary data storage, does the fact that I am now providing a (moderate) amount of data as a plain ascii file mean that I am a bad teacher...\n",
    "\n",
    "*probably*"
   ]
  },
  {
   "cell_type": "code",
   "execution_count": 31,
   "metadata": {
    "slideshow": {
     "slide_type": "subslide"
    }
   },
   "outputs": [
    {
     "data": {
      "text/html": [
       "<div>\n",
       "<style scoped>\n",
       "    .dataframe tbody tr th:only-of-type {\n",
       "        vertical-align: middle;\n",
       "    }\n",
       "\n",
       "    .dataframe tbody tr th {\n",
       "        vertical-align: top;\n",
       "    }\n",
       "\n",
       "    .dataframe thead th {\n",
       "        text-align: right;\n",
       "    }\n",
       "</style>\n",
       "<table border=\"1\" class=\"dataframe\">\n",
       "  <thead>\n",
       "    <tr style=\"text-align: right;\">\n",
       "      <th></th>\n",
       "      <th>specObjID</th>\n",
       "      <th>z</th>\n",
       "      <th>type</th>\n",
       "      <th>psfMag_u</th>\n",
       "      <th>psfMag_g</th>\n",
       "      <th>psfMag_r</th>\n",
       "      <th>psfMag_i</th>\n",
       "      <th>psfMag_z</th>\n",
       "      <th>modelMag_u</th>\n",
       "      <th>modelMag_g</th>\n",
       "      <th>...</th>\n",
       "      <th>extinction_i</th>\n",
       "      <th>extinction_z</th>\n",
       "      <th>w1mpro</th>\n",
       "      <th>w1snr</th>\n",
       "      <th>w2mpro</th>\n",
       "      <th>w2snr</th>\n",
       "      <th>w3mpro</th>\n",
       "      <th>w3snr</th>\n",
       "      <th>w4mpro</th>\n",
       "      <th>w4snr</th>\n",
       "    </tr>\n",
       "  </thead>\n",
       "  <tbody>\n",
       "    <tr>\n",
       "      <th>0</th>\n",
       "      <td>299567742770505728</td>\n",
       "      <td>0.071414</td>\n",
       "      <td>ext</td>\n",
       "      <td>20.88291</td>\n",
       "      <td>19.23907</td>\n",
       "      <td>18.56170</td>\n",
       "      <td>18.09715</td>\n",
       "      <td>17.76469</td>\n",
       "      <td>19.62189</td>\n",
       "      <td>18.03702</td>\n",
       "      <td>...</td>\n",
       "      <td>0.061267</td>\n",
       "      <td>0.045572</td>\n",
       "      <td>14.395</td>\n",
       "      <td>21.1</td>\n",
       "      <td>14.236</td>\n",
       "      <td>15.6</td>\n",
       "      <td>11.029</td>\n",
       "      <td>6.8</td>\n",
       "      <td>8.579</td>\n",
       "      <td>-0.9</td>\n",
       "    </tr>\n",
       "    <tr>\n",
       "      <th>1</th>\n",
       "      <td>299568017178650624</td>\n",
       "      <td>0.071380</td>\n",
       "      <td>ext</td>\n",
       "      <td>20.88291</td>\n",
       "      <td>19.23907</td>\n",
       "      <td>18.56170</td>\n",
       "      <td>18.09715</td>\n",
       "      <td>17.76469</td>\n",
       "      <td>19.62189</td>\n",
       "      <td>18.03702</td>\n",
       "      <td>...</td>\n",
       "      <td>0.061267</td>\n",
       "      <td>0.045572</td>\n",
       "      <td>14.395</td>\n",
       "      <td>21.1</td>\n",
       "      <td>14.236</td>\n",
       "      <td>15.6</td>\n",
       "      <td>11.029</td>\n",
       "      <td>6.8</td>\n",
       "      <td>8.579</td>\n",
       "      <td>-0.9</td>\n",
       "    </tr>\n",
       "    <tr>\n",
       "      <th>2</th>\n",
       "      <td>299566643258877952</td>\n",
       "      <td>0.088173</td>\n",
       "      <td>ext</td>\n",
       "      <td>20.84844</td>\n",
       "      <td>18.96040</td>\n",
       "      <td>18.08027</td>\n",
       "      <td>17.62953</td>\n",
       "      <td>17.31857</td>\n",
       "      <td>20.18508</td>\n",
       "      <td>18.26120</td>\n",
       "      <td>...</td>\n",
       "      <td>0.047582</td>\n",
       "      <td>0.035392</td>\n",
       "      <td>14.162</td>\n",
       "      <td>35.0</td>\n",
       "      <td>13.970</td>\n",
       "      <td>22.3</td>\n",
       "      <td>12.233</td>\n",
       "      <td>2.9</td>\n",
       "      <td>9.067</td>\n",
       "      <td>-0.3</td>\n",
       "    </tr>\n",
       "    <tr>\n",
       "      <th>3</th>\n",
       "      <td>299569116690278400</td>\n",
       "      <td>0.088161</td>\n",
       "      <td>ext</td>\n",
       "      <td>20.84844</td>\n",
       "      <td>18.96040</td>\n",
       "      <td>18.08027</td>\n",
       "      <td>17.62953</td>\n",
       "      <td>17.31857</td>\n",
       "      <td>20.18508</td>\n",
       "      <td>18.26120</td>\n",
       "      <td>...</td>\n",
       "      <td>0.047582</td>\n",
       "      <td>0.035392</td>\n",
       "      <td>14.162</td>\n",
       "      <td>35.0</td>\n",
       "      <td>13.970</td>\n",
       "      <td>22.3</td>\n",
       "      <td>12.233</td>\n",
       "      <td>2.9</td>\n",
       "      <td>9.067</td>\n",
       "      <td>-0.3</td>\n",
       "    </tr>\n",
       "    <tr>\n",
       "      <th>4</th>\n",
       "      <td>299568292056557568</td>\n",
       "      <td>0.066539</td>\n",
       "      <td>ext</td>\n",
       "      <td>21.28256</td>\n",
       "      <td>19.61427</td>\n",
       "      <td>18.98529</td>\n",
       "      <td>18.52956</td>\n",
       "      <td>18.26322</td>\n",
       "      <td>20.18081</td>\n",
       "      <td>18.47435</td>\n",
       "      <td>...</td>\n",
       "      <td>0.058709</td>\n",
       "      <td>0.043669</td>\n",
       "      <td>14.734</td>\n",
       "      <td>30.6</td>\n",
       "      <td>14.512</td>\n",
       "      <td>17.6</td>\n",
       "      <td>11.078</td>\n",
       "      <td>9.8</td>\n",
       "      <td>9.054</td>\n",
       "      <td>2.3</td>\n",
       "    </tr>\n",
       "  </tbody>\n",
       "</table>\n",
       "<p>5 rows × 26 columns</p>\n",
       "</div>"
      ],
      "text/plain": [
       "            specObjID         z type  psfMag_u  psfMag_g  psfMag_r  psfMag_i  \\\n",
       "0  299567742770505728  0.071414  ext  20.88291  19.23907  18.56170  18.09715   \n",
       "1  299568017178650624  0.071380  ext  20.88291  19.23907  18.56170  18.09715   \n",
       "2  299566643258877952  0.088173  ext  20.84844  18.96040  18.08027  17.62953   \n",
       "3  299569116690278400  0.088161  ext  20.84844  18.96040  18.08027  17.62953   \n",
       "4  299568292056557568  0.066539  ext  21.28256  19.61427  18.98529  18.52956   \n",
       "\n",
       "   psfMag_z  modelMag_u  modelMag_g  ...    extinction_i  extinction_z  \\\n",
       "0  17.76469    19.62189    18.03702  ...        0.061267      0.045572   \n",
       "1  17.76469    19.62189    18.03702  ...        0.061267      0.045572   \n",
       "2  17.31857    20.18508    18.26120  ...        0.047582      0.035392   \n",
       "3  17.31857    20.18508    18.26120  ...        0.047582      0.035392   \n",
       "4  18.26322    20.18081    18.47435  ...        0.058709      0.043669   \n",
       "\n",
       "   w1mpro  w1snr  w2mpro  w2snr  w3mpro  w3snr  w4mpro  w4snr  \n",
       "0  14.395   21.1  14.236   15.6  11.029    6.8   8.579   -0.9  \n",
       "1  14.395   21.1  14.236   15.6  11.029    6.8   8.579   -0.9  \n",
       "2  14.162   35.0  13.970   22.3  12.233    2.9   9.067   -0.3  \n",
       "3  14.162   35.0  13.970   22.3  12.233    2.9   9.067   -0.3  \n",
       "4  14.734   30.6  14.512   17.6  11.078    9.8   9.054    2.3  \n",
       "\n",
       "[5 rows x 26 columns]"
      ]
     },
     "execution_count": 31,
     "metadata": {},
     "output_type": "execute_result"
    }
   ],
   "source": [
    "sdss_spec = pd.read_csv(\"DSFP_SDSS_spec_train.csv\")\n",
    "sdss_spec.head()"
   ]
  },
  {
   "cell_type": "markdown",
   "metadata": {
    "slideshow": {
     "slide_type": "slide"
    }
   },
   "source": [
    "`pandas` provides many different methods for selecting columns from the DataFrame. Supposing you wanted `psfMag`, you could use any of the following:\n",
    "\n",
    "    sdss_spec['psfMag_g']\n",
    "    sdss_spec[['psfMag_r', 'psfMag_z']]\n",
    "    sdss_spec.psfMag_g\n",
    "\n",
    "(notice that selecting multiple columns requires a list within `[]`)"
   ]
  },
  {
   "cell_type": "markdown",
   "metadata": {
    "slideshow": {
     "slide_type": "slide"
    }
   },
   "source": [
    "**Problem 3c**\n",
    "\n",
    "Plot a histogram of the `psfMag_g` - `modelMag_g` distribution for the data set (which requires a selection of those two columns).\n",
    "\n",
    "Do you notice anything interesting?\n",
    "\n",
    "*Hint* - you may want to use more than the default number of bins (=10)."
   ]
  },
  {
   "cell_type": "code",
   "execution_count": 34,
   "metadata": {
    "slideshow": {
     "slide_type": "slide"
    }
   },
   "outputs": [
    {
     "data": {
      "text/plain": [
       "Text(0.5, 0, 'psf - model')"
      ]
     },
     "execution_count": 34,
     "metadata": {},
     "output_type": "execute_result"
    },
    {
     "data": {
      "image/png": "[encoded data removed]",
      "text/plain": [
       "<Figure size 432x288 with 1 Axes>"
      ]
     },
     "metadata": {
      "needs_background": "light"
     },
     "output_type": "display_data"
    }
   ],
   "source": [
    "mag_diff = sdss_spec.psfMag_g - sdss_spec.modelMag_g\n",
    "\n",
    "plt.hist(mag_diff, bins = 100)\n",
    "plt.xlabel('psf - model')"
   ]
  },
  {
   "cell_type": "markdown",
   "metadata": {
    "slideshow": {
     "slide_type": "slide"
    }
   },
   "source": [
    "Pandas can also be used to aggregate the results of a search.\n",
    "\n",
    "**Problem 3d**\n",
    "\n",
    "How many extended sources (`type` = `ext`) have `modelMag_i` between 19 and 20? Use as few lines as possible."
   ]
  },
  {
   "cell_type": "code",
   "execution_count": 37,
   "metadata": {
    "slideshow": {
     "slide_type": "subslide"
    }
   },
   "outputs": [
    {
     "data": {
      "text/plain": [
       "369"
      ]
     },
     "execution_count": 37,
     "metadata": {},
     "output_type": "execute_result"
    }
   ],
   "source": [
    "# complete\n",
    "\n",
    "len(sdss_spec[(sdss_spec.type == 'ext') & \n",
    "             (sdss_spec.modelMag_i >= 19) &\n",
    "             (sdss_spec.modelMag_i <= 20)])"
   ]
  },
  {
   "cell_type": "markdown",
   "metadata": {
    "slideshow": {
     "slide_type": "slide"
    }
   },
   "source": [
    "`pandas` also enables [`GROUP BY`](http://pandas.pydata.org/pandas-docs/stable/user_guide/groupby.html) operations, where the data are split based on some criterion, a function is then applied to the groups, and the results are then combined back into a data structure."
   ]
  },
  {
   "cell_type": "markdown",
   "metadata": {
    "slideshow": {
     "slide_type": "slide"
    }
   },
   "source": [
    "**Problem 3e**\n",
    "\n",
    "Group the data by their `type` and then report the minimum, median, and maximum redshift of each group. Can you immediately tell anything about these sources based on these results?\n",
    "\n",
    "*Hint* - just execute the cell below."
   ]
  },
  {
   "cell_type": "code",
   "execution_count": 38,
   "metadata": {
    "slideshow": {
     "slide_type": "subslide"
    }
   },
   "outputs": [
    {
     "name": "stdout",
     "output_type": "stream",
     "text": [
      "type\n",
      "ext   -0.005469\n",
      "ps    -0.010875\n",
      "Name: z, dtype: float64\n",
      "type\n",
      "ext    0.107352\n",
      "ps     0.000275\n",
      "Name: z, dtype: float64\n",
      "type\n",
      "ext    6.839257\n",
      "ps     6.687022\n",
      "Name: z, dtype: float64\n"
     ]
    }
   ],
   "source": [
    "grouped = sdss_spec.groupby([sdss_spec.type])\n",
    "print(grouped['z'].min())\n",
    "print(grouped['z'].median())\n",
    "print(grouped['z'].max())"
   ]
  },
  {
   "cell_type": "markdown",
   "metadata": {
    "slideshow": {
     "slide_type": "slide"
    }
   },
   "source": [
    "Finally, we have only briefly discussed joining tables, but this is where relational databases really shine.\n",
    "\n",
    "For this example we only have a single table, so we will exclude any examples of a `pandas` join, but there is functionality to [join or merge](https://pandas.pydata.org/pandas-docs/stable/user_guide/merging.html) dataframes in a fashion that is fully analogous to databases."
   ]
  },
  {
   "cell_type": "markdown",
   "metadata": {
    "slideshow": {
     "slide_type": "slide"
    }
   },
   "source": [
    "In summary, there are many different possible solutions for data storage and management. \n",
    "\n",
    "For \"medium\" to \"big\" data that won't easily fit into memory ($\\sim$16 GB), it is likely that a database is your best solution. For slightly smaller problems `pandas` provides a really nice, lightweight alternative to a full blown database that nevertheless maintains a lot of the same functionality and power."
   ]
  },
  {
   "cell_type": "markdown",
   "metadata": {
    "slideshow": {
     "slide_type": "slide"
    }
   },
   "source": [
    "## Problem 4) We Aren't Done Talking About Your Laptop's Inadequacies"
   ]
  },
  {
   "cell_type": "markdown",
   "metadata": {
    "slideshow": {
     "slide_type": "slide"
    }
   },
   "source": [
    "So far we have been focused on only a single aspect of computing: storage (and your laptop sucks at that). \n",
    "\n",
    "But here's the thing - your laptop is also incredibly slow."
   ]
  },
  {
   "cell_type": "markdown",
   "metadata": {
    "slideshow": {
     "slide_type": "subslide"
    }
   },
   "source": [
    "Supposing for a moment that you could hold all (or even a significant fraction) of the information from LSST in memory on your laptop, you would still be out of luck, as you would die before you could actually process the data and make any meaningful calculations.\n",
    "\n",
    "(we argued that it would take [$\\sim$200 yr to process LSST on your laptop](https://github.com/LSSTC-DSFP/LSSTC-DSFP-Sessions/blob/master/Session5/Day1/PhotonsArentScienceSolutions.ipynb) in Session 5)"
   ]
  },
  {
   "cell_type": "markdown",
   "metadata": {
    "slideshow": {
     "slide_type": "subslide"
    }
   },
   "source": [
    "You are in luck, however, as you need not limit yourself to your laptop. You can take advantage of multiple computers, also known  as parallel processing.\n",
    "\n",
    "At a previous session, I asked Robert Lupton, one of the primary developers of the LSST photometric pipeline, \"How many CPUs are being used to process LSST data?\" To which he replied, \"However many are needed to process everything within 1 month.\""
   ]
  },
  {
   "cell_type": "markdown",
   "metadata": {
    "slideshow": {
     "slide_type": "subslide"
    }
   },
   "source": [
    "The critical point here is that if you can figure out how to split a calculation over multiple computers, then you can finish any calculation arbitrarily fast with enough processors (to within some limits, like the speed of light, etc)"
   ]
  },
  {
   "cell_type": "markdown",
   "metadata": {
    "slideshow": {
     "slide_type": "slide"
    }
   },
   "source": [
    "We will spend a lot more time talking about both efficient algorithm design and parallel processing later this week, but I want to close with a quick example that touches on each of these things."
   ]
  },
  {
   "cell_type": "markdown",
   "metadata": {
    "slideshow": {
     "slide_type": "subslide"
    }
   },
   "source": [
    "Suppose that you have some 2k x 2k detector (i.e. 4 million pixels), and you need to manipulate the data in that array. For instance, the detector will report the number of counts per pixel, but this number is larger than the actual number of detected photons by a factor $g$, the gain of the telescope.\n",
    "\n",
    "How long does it take divide every pixel by the gain?"
   ]
  },
  {
   "cell_type": "markdown",
   "metadata": {
    "slideshow": {
     "slide_type": "subslide"
    }
   },
   "source": [
    "(This is where I spend a moment telling you that - if you are going to time portions of your code as a means of measuring performance it is essential that you turn off *everything else* that may be running on your computer, as background processes can mess up your timing results)"
   ]
  },
  {
   "cell_type": "code",
   "execution_count": 39,
   "metadata": {
    "slideshow": {
     "slide_type": "subslide"
    }
   },
   "outputs": [
    {
     "name": "stdout",
     "output_type": "stream",
     "text": [
      "It takes 1.863583 s to correct for the gain\n"
     ]
    }
   ],
   "source": [
    "import time\n",
    "\n",
    "pixel_data = np.random.rand(4000000)\n",
    "photons = np.empty_like(pixel_data)\n",
    "\n",
    "tstart = time.time()\n",
    "for pix_num, pixel in enumerate(pixel_data):\n",
    "    photons[pix_num] = pixel/8\n",
    "trun = time.time() - tstart\n",
    "print('It takes {:.6f} s to correct for the gain'.format(trun))"
   ]
  },
  {
   "cell_type": "markdown",
   "metadata": {
    "slideshow": {
     "slide_type": "subslide"
    }
   },
   "source": [
    "1.5 s isn't too bad in the grand scheme of things. \n",
    "\n",
    "Except that this example should make you cringe. There is absolutely no need to use a for loop for these operations.\n",
    "\n",
    "This brings us to fast coding lesson number 1 - **vectorize everything**."
   ]
  },
  {
   "cell_type": "code",
   "execution_count": 40,
   "metadata": {
    "slideshow": {
     "slide_type": "subslide"
    }
   },
   "outputs": [
    {
     "name": "stdout",
     "output_type": "stream",
     "text": [
      "It takes 0.019053 s to correct for the gain\n"
     ]
    }
   ],
   "source": [
    "photons = np.empty_like(pixel_data)\n",
    "\n",
    "tstart = time.time()\n",
    "photons = pixel_data/8\n",
    "trun = time.time() - tstart\n",
    "print('It takes {:.6f} s to correct for the gain'.format(trun))"
   ]
  },
  {
   "cell_type": "markdown",
   "metadata": {
    "slideshow": {
     "slide_type": "subslide"
    }
   },
   "source": [
    "By removing the for loop we improve the speed of this particular calculation by a factor of $\\sim$125. That is a massive win."
   ]
  },
  {
   "cell_type": "markdown",
   "metadata": {
    "slideshow": {
     "slide_type": "subslide"
    }
   },
   "source": [
    "Alternatively, we could have sped up the operations via the use of parallel programing. The [`multiprocessing`](https://docs.python.org/2/library/multiprocessing.html) library in python makes it relatively easy to implement parallel operations. There are many different ways to implement parallel processing in python, here we will just use one simple example.\n",
    "\n",
    "(again, we will go over multiprocessing in far more detail later this week)"
   ]
  },
  {
   "cell_type": "code",
   "execution_count": 41,
   "metadata": {
    "slideshow": {
     "slide_type": "subslide"
    }
   },
   "outputs": [
    {
     "name": "stdout",
     "output_type": "stream",
     "text": [
      "It takes 21.425748 s to correct for the gain\n"
     ]
    }
   ],
   "source": [
    "from multiprocessing import Pool\n",
    "\n",
    "def divide_by_gain(number, gain=8):\n",
    "    return number/gain\n",
    "\n",
    "pool = Pool()\n",
    "\n",
    "tstart = time.time()\n",
    "photons = pool.map(divide_by_gain, pixel_data)\n",
    "trun = time.time() - tstart\n",
    "print('It takes {:.6f} s to correct for the gain'.format(trun))"
   ]
  },
  {
   "cell_type": "markdown",
   "metadata": {
    "slideshow": {
     "slide_type": "subslide"
    }
   },
   "source": [
    "Wait, parallel processing slows this down by a factor $\\sim$7? What's going on here? \n",
    "\n",
    "It turns out there is some overhead in copying the data and spawning multiple processes, and in this case that overhead is enormous. Of course, for more complex functions/operations (here we were only doing simple division), that overhead is tiny compared to the individual calculations and using multiple processors can lead to almost an $N$x gain in speed, where $N$ is the number of processors available."
   ]
  },
  {
   "cell_type": "markdown",
   "metadata": {
    "slideshow": {
     "slide_type": "subslide"
    }
   },
   "source": [
    "This brings me to fast coding lesson number 2 - **before you parallelize, profile**. (We will talk more about software profiling later in the week), but in short - there is no point to parallelizing inefficient operations. Even if the parallel gain calculation provided a factor of $\\sim$4 (the number of CPUS on my machine) speed up relative to our initial for loop, that factor of 4 is a waste compared to the factor of 125 gained by vectorizing the code."
   ]
  },
  {
   "cell_type": "markdown",
   "metadata": {
    "slideshow": {
     "slide_type": "slide"
    }
   },
   "source": [
    "## Conclusions"
   ]
  },
  {
   "cell_type": "markdown",
   "metadata": {
    "slideshow": {
     "slide_type": "subslide"
    }
   },
   "source": [
    "As we go through this week - think about the types of problems that you encounter in your own workflow, and consider how you might be able to improve that workflow by moving off of your laptop.\n",
    "\n",
    "This may come in several forms, including: superior data organization, better data structures (`pandas` or databases), more efficient algorithms, and finally parallel processing."
   ]
  }
 ],
 "metadata": {
  "kernelspec": {
   "display_name": "Python 3",
   "language": "python",
   "name": "python3"
  },
  "language_info": {
   "codemirror_mode": {
    "name": "ipython",
    "version": 3
   },
   "file_extension": ".py",
   "mimetype": "text/x-python",
   "name": "python",
   "nbconvert_exporter": "python",
   "pygments_lexer": "ipython3",
   "version": "3.6.6"
  }
 },
 "nbformat": 4,
 "nbformat_minor": 2
}
