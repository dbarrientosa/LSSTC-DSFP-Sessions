{
 "cells": [
  {
   "cell_type": "code",
   "execution_count": 1,
   "metadata": {
    "slideshow": {
     "slide_type": "skip"
    }
   },
   "outputs": [],
   "source": [
    "import numpy as np\n",
    "import pandas as pd\n",
    "from scipy.optimize import minimize\n",
    "\n",
    "import matplotlib.pyplot as plt\n",
    "%matplotlib notebook"
   ]
  },
  {
   "cell_type": "markdown",
   "metadata": {
    "slideshow": {
     "slide_type": "slide"
    }
   },
   "source": [
    "# Periodic Signals & The Lomb-Scargle Periodogram\n",
    "\n",
    "**Version 0.1**\n",
    "\n",
    "* * *\n",
    "\n",
    "By AA Miller (CIERA/Northwestern & Adler)"
   ]
  },
  {
   "cell_type": "markdown",
   "metadata": {
    "slideshow": {
     "slide_type": "slide"
    }
   },
   "source": [
    "This notebook discusses the detection of periodic signals in noisy, irregular data (the standard for ground-based astronomical surveys). The discussion below is strongly influenced by *Understanding the Lomb-Scarge Periodogram*, by Jake VanderPlas, a former DSFP lecturer [(VanderPlas 2017)](http://adsabs.harvard.edu/abs/2017arXiv170309824V). Beyond that, the original papers by [Lomb 1976](http://adsabs.harvard.edu/abs/1976Ap%26SS..39..447L) and [Scargle 1982](http://adsabs.harvard.edu/abs/1982ApJ...263..835S) are also worth a read."
   ]
  },
  {
   "cell_type": "markdown",
   "metadata": {
    "slideshow": {
     "slide_type": "slide"
    }
   },
   "source": [
    "There are many, many papers on the use of the Lomb-Scargle periodogram (and other period detection methods). Former DSFP lecturer, Matthew Graham and colleagues conducted a systematic analysis of many of the most popular tools used to search for periodic signals on *actual astronomical data* [(Graham et al. 2013)](http://adsabs.harvard.edu/abs/2013MNRAS.434.3423G). [Somewhat to my (our?) dismay, they found that none of the solutions work really well across all use cases.]"
   ]
  },
  {
   "cell_type": "markdown",
   "metadata": {
    "slideshow": {
     "slide_type": "slide"
    }
   },
   "source": [
    "## Problem 1) Helper Functions\n",
    "\n",
    "Throughout this lecture, there are a number of operations that we will be performing again and again. Thus, we'll create a few helper functions to minimize repetitive commands (e.g., plotting a phase folded light curve). "
   ]
  },
  {
   "cell_type": "markdown",
   "metadata": {
    "slideshow": {
     "slide_type": "slide"
    }
   },
   "source": [
    "**Problem 1a**\n",
    "\n",
    "Create a function, `gen_periodic_data`, that creates simulated data (including noise) over a grid of user supplied positions:\n",
    "\n",
    "$$ y = A\\,cos\\left(\\frac{2{\\pi}x}{P} - \\phi\\right) + \\sigma_y$$\n",
    "\n",
    "where $A, P, \\phi$ are inputs to the function. `gen_periodic_data` should include Gaussian noise, $\\sigma_y$, for each output $y_i$."
   ]
  },
  {
   "cell_type": "code",
   "execution_count": 2,
   "metadata": {
    "slideshow": {
     "slide_type": "slide"
    }
   },
   "outputs": [],
   "source": [
    "def gen_periodic_data(x, period=1, amplitude=1, phase=0, noise=0):\n",
    "    '''Generate periodic data given the function inputs\n",
    "    \n",
    "    y = A*cos(x/p - phase) + noise\n",
    "    \n",
    "    Parameters\n",
    "    ----------\n",
    "    x : array-like\n",
    "        input values to evaluate the array\n",
    "    \n",
    "    period : float (default=1)\n",
    "        period of the periodic signal\n",
    "    \n",
    "    amplitude : float (default=1)\n",
    "        amplitude of the periodic signal\n",
    "    \n",
    "    phase : float (default=0)\n",
    "        phase offset of the periodic signal\n",
    "    \n",
    "    noise : float (default=0)\n",
    "        variance of the noise term added to the periodic signal\n",
    "    \n",
    "    Returns\n",
    "    -------\n",
    "    y : array-like\n",
    "        Periodic signal evaluated at all points x\n",
    "    '''\n",
    "    \n",
    "    y = amplitude*np.sin(2*np.pi*x/(period) - phase) + np.random.normal(0, np.sqrt(noise), size=len(x))\n",
    "    return y"
   ]
  },
  {
   "cell_type": "markdown",
   "metadata": {
    "slideshow": {
     "slide_type": "slide"
    }
   },
   "source": [
    "**Problem 1b**\n",
    "\n",
    "Generate a *noise-free* signal with $A = 2$ and $p = \\pi$ over a regular grid between 0 and 10. Plot the results (and make sure `gen_periodic_data` behaves as you would expect)."
   ]
  },
  {
   "cell_type": "code",
   "execution_count": 24,
   "metadata": {
    "slideshow": {
     "slide_type": "slide"
    }
   },
   "outputs": [
    {
     "data": {
      "image/png": "[encoded data removed]",
      "text/plain": [
       "<Figure size 432x288 with 1 Axes>"
      ]
     },
     "metadata": {
      "needs_background": "light"
     },
     "output_type": "display_data"
    }
   ],
   "source": [
    "x = np.linspace(0,10,100)# complete\n",
    "\n",
    "A = 2\n",
    "p = np.pi\n",
    "y = gen_periodic_data(x, p, A) # complete\n",
    "\n",
    "fig, ax = plt.subplots()\n",
    "ax.scatter(x,y) # complete\n",
    "ax.set_xlabel('time')\n",
    "ax.set_ylabel('signal')\n",
    "fig.tight_layout()"
   ]
  },
  {
   "cell_type": "markdown",
   "metadata": {
    "slideshow": {
     "slide_type": "slide"
    }
   },
   "source": [
    "**Problem 1c**\n",
    "\n",
    "Create a function, `phase_plot`, that takes x, y, and $P$ as inputs to create a phase-folded light curve (i.e., plot the data at their respective phase values given the period $P$).\n",
    "\n",
    "Include an optional argument, `y_unc`, to include uncertainties on the `y` values, when available."
   ]
  },
  {
   "cell_type": "code",
   "execution_count": 9,
   "metadata": {
    "slideshow": {
     "slide_type": "slide"
    }
   },
   "outputs": [],
   "source": [
    "def phase_plot(x, y, period, y_unc = 0.0):\n",
    "    '''Create phase-folded plot of input data x, y\n",
    "    \n",
    "    Parameters\n",
    "    ----------\n",
    "    x : array-like\n",
    "        data values along abscissa\n",
    "\n",
    "    y : array-like\n",
    "        data values along ordinate\n",
    "\n",
    "    period : float\n",
    "        period to fold the data\n",
    "        \n",
    "    y_unc : array-like\n",
    "        uncertainty of the \n",
    "    '''    \n",
    "    phases = (x/period) % 1\n",
    "    if type(y_unc) == float:\n",
    "        y_unc = np.zeros_like(x)\n",
    "        \n",
    "    plot_order = np.argsort(phases)   # So that the lines conecting data points wont go over each other\n",
    "    fig, ax = plt.subplots()\n",
    "    ax.errorbar(phases[plot_order], y[plot_order], y_unc[plot_order],\n",
    "                 fmt='o', mec=\"0.2\", mew=0.1)\n",
    "    ax.set_xlabel(\"phase\")\n",
    "    ax.set_ylabel(\"signal\")\n",
    "    fig.tight_layout()"
   ]
  },
  {
   "cell_type": "markdown",
   "metadata": {
    "slideshow": {
     "slide_type": "slide"
    }
   },
   "source": [
    "**Problem 1d**\n",
    "\n",
    "Plot the phase folded data generated in **1b**.\n",
    "\n",
    "Does your plot match your expectations?"
   ]
  },
  {
   "cell_type": "code",
   "execution_count": 25,
   "metadata": {
    "scrolled": false,
    "slideshow": {
     "slide_type": "slide"
    }
   },
   "outputs": [
    {
     "data": {
      "image/png": "[encoded data removed]",
      "text/plain": [
       "<Figure size 432x288 with 1 Axes>"
      ]
     },
     "metadata": {
      "needs_background": "light"
     },
     "output_type": "display_data"
    }
   ],
   "source": [
    "phase_plot(x,y,p) # complete"
   ]
  },
  {
   "cell_type": "markdown",
   "metadata": {},
   "source": [
    "__Note to self:__ There is something very interesting about the amount of observations we need to actually recognize a pattern when we are looking at the full light curve vs when we look at the folded light curve. (If I do 10 points in the light curve I can't distinguish any pattern but it is enough for the folded curve to show some shape)."
   ]
  },
  {
   "cell_type": "markdown",
   "metadata": {
    "slideshow": {
     "slide_type": "slide"
    }
   },
   "source": [
    "An important, but necessary, aside –– \n",
    "\n",
    "the slightly unusual scheduling for this week means that the lectures will not unfold in the most natural order. An in depth examination of Fourier methods will occur on Wednesday and Thursday, and ideally this would happen before any discussion of the Lomb-Scargle periodogram. "
   ]
  },
  {
   "cell_type": "markdown",
   "metadata": {
    "slideshow": {
     "slide_type": "subslide"
    }
   },
   "source": [
    "However, Cohort 2 has already seen Lomb-Scargle and Gaussian Processes, so we will start with that and *then* cover Fourier methods. I'll proceed with a brief review of Fourier analysis, if you haven't seen this before it may be worth revisiting this notebook later in the week. \n",
    "\n",
    "(Either way - the main takeaways from Lomb-Scargle will be clear by the end of this notebook)"
   ]
  },
  {
   "cell_type": "markdown",
   "metadata": {
    "slideshow": {
     "slide_type": "slide"
    }
   },
   "source": [
    "## Problem 2) A Brief Review of Fourier Analysis\n",
    "\n",
    "In astronomical time series, we crave the detection of periodic signals because they can often provide fundamental insight into the sources we are studying (e.g., masses in a binary, classifications for pulsating stars, etc).\n",
    "\n",
    "The standard$^\\dagger$ choice for most astronomers to identify such signals is the Lomb-Scargle (LS) periodogram ([Lomb 1976](http://adsabs.harvard.edu/abs/1976Ap%26SS..39..447L); [Scargle 1982](http://adsabs.harvard.edu/abs/1982ApJ...263..835S)).\n",
    "\n",
    "$^\\dagger$Standard does not mean best, fastest, or even correct depending on your specific application."
   ]
  },
  {
   "cell_type": "markdown",
   "metadata": {
    "slideshow": {
     "slide_type": "slide"
    }
   },
   "source": [
    "At the heart of understanding any periodic signals is Fourier analysis. Thus, to understand how to interpret the LS periodogram, we first need to consider Fourier transforms.\n",
    "\n",
    "*Note - here we aim to jog your memory regarding Fourier analysis. Detailed mathematical calculations can be found elsewhere.*"
   ]
  },
  {
   "cell_type": "markdown",
   "metadata": {
    "slideshow": {
     "slide_type": "slide"
    }
   },
   "source": [
    "Given a continuous signal, $g(t)$ the Fourier transform of that signal is defined as:\n",
    "\n",
    "$$\\hat{\\mathrm{g}}(f) = \\int_{-\\infty}^{\\infty} g(t) \\,e^{-2\\pi i f t} \\,dt,$$\n",
    "\n",
    "where $i$ is an imaginary number. The inverse of this equation is defined as:\n",
    "\n",
    "$$ g(t) = \\int_{-\\infty}^{\\infty} \\hat{\\mathrm{g}}(f) \\,e^{2\\pi i f t} \\,df.$$\n",
    "\n",
    "For convenience, we will use the Fourier transform operator $\\mathcal{F}$, from which the above equations reduce to: \n",
    "\n",
    "$$\\mathcal{F}(g) = \\hat g$$\n",
    "\n",
    "$$\\mathcal{F}^{-1}(\\hat{g}) = g$$"
   ]
  },
  {
   "cell_type": "markdown",
   "metadata": {
    "slideshow": {
     "slide_type": "slide"
    }
   },
   "source": [
    "There are many useful properties of the Fourier transform including that the Fourier transform is a linear operator. Additionally, a time shift imparts a phase shift. Perhaps most importantly for our present purposes, however, is that the squared amplitude of the resulting transform allows us to get rid of the imaginary component and measure the power spectral density or power spectrum:\n",
    "\n",
    "$$ \\mathcal{P}_g = \\left|\\mathcal{F}(g)\\right|^2.$$\n",
    "\n",
    "The power spectrum is a real-valued function that quantifies the contribution of each frequency $f$ to the total signal in $g$. The power spectrum thus provides a way to identify the dominant frequency in any given signal. "
   ]
  },
  {
   "cell_type": "markdown",
   "metadata": {
    "slideshow": {
     "slide_type": "slide"
    }
   },
   "source": [
    "Next we consider some common Fourier pairs, that will prove helpful in our interpretation of the LS periodogram. "
   ]
  },
  {
   "cell_type": "code",
   "execution_count": 26,
   "metadata": {
    "slideshow": {
     "slide_type": "slide"
    }
   },
   "outputs": [
    {
     "ename": "NameError",
     "evalue": "name 'fourier_pairs_plot' is not defined",
     "output_type": "error",
     "traceback": [
      "\u001b[0;31m---------------------------------------------------------------------------\u001b[0m",
      "\u001b[0;31mNameError\u001b[0m                                 Traceback (most recent call last)",
      "\u001b[0;32m<ipython-input-26-77e71c3ac84a>\u001b[0m in \u001b[0;36m<module>\u001b[0;34m\u001b[0m\n\u001b[0;32m----> 1\u001b[0;31m \u001b[0mfourier_pairs_plot\u001b[0m\u001b[0;34m(\u001b[0m\u001b[0;34m)\u001b[0m\u001b[0;34m\u001b[0m\u001b[0;34m\u001b[0m\u001b[0m\n\u001b[0m",
      "\u001b[0;31mNameError\u001b[0m: name 'fourier_pairs_plot' is not defined"
     ]
    }
   ],
   "source": [
    "fourier_pairs_plot()"
   ]
  },
  {
   "cell_type": "markdown",
   "metadata": {},
   "source": [
    "I shouldn't have run the cell above (ups). there were examples of periodic signals and their fourier counterparts:\n",
    "\n",
    "* sinusoid --> delta function\n",
    "* gaussian --> gaussian\n",
    "* top hat --> sinc\n",
    "* dirac comb --> \n",
    "\n",
    "These are fourier pairs."
   ]
  },
  {
   "cell_type": "markdown",
   "metadata": {
    "slideshow": {
     "slide_type": "slide"
    }
   },
   "source": [
    "The common Fourier pairs are especially useful in light of the convolution theorem. Fourier transforms convert convolutions into point-wise products. We define a convolution as:\n",
    "\n",
    "$$ [f \\ast g] (t) = \\int_{-\\infty}^{\\infty} f(\\tau) \\,g(t - \\tau) \\,d\\tau,$$\n",
    "\n",
    "where $\\ast$ is the convolution symbol. From the convolution theorem:\n",
    "\n",
    "$$ \\mathcal{F} \\{f \\ast g\\} = \\mathcal{F}(f)  \\mathcal{F}(g) $$\n",
    "\n",
    "Furthermore, the Fourier transform of a product is equal to the convolution of the Fourier transforms:\n",
    "\n",
    "$$ \\mathcal{F}\\{f \\cdot g\\} = \\mathcal{F}(f) \\ast \\mathcal{F}(g) $$\n",
    "\n",
    "This property will be very important for understanding the Lomb-Scargle periodogram. "
   ]
  },
  {
   "cell_type": "markdown",
   "metadata": {
    "slideshow": {
     "slide_type": "slide"
    }
   },
   "source": [
    "Fourier transforms are all well and good, but ultimately we desire a measure of periodicity in actual observations of astrophysical sources, which cannot be (a) continuous, or (b) infinite. \n",
    "\n",
    "The first thing to understand with real world observations is the Nyquist frequency limit. If observations are obtained in a uniformly spaced manner at a rate of $f_0 = 1/T$ one can only recover the frequncy information if the signal is band-limited between frequencies $\\pm f_0/2$. Put another way, the highest frequency that can be detected in such data is $f_0/2$."
   ]
  },
  {
   "cell_type": "markdown",
   "metadata": {
    "slideshow": {
     "slide_type": "slide"
    }
   },
   "source": [
    "This result can be (somewhat) intuited by looking at simulated data.\n",
    "\n",
    "**Problem 2a**\n",
    "\n",
    "Generate and plot a periodic signal with $f = f_\\mathrm{Ny} = 1/2$ on a grid from 0 to 10, comprising of 10 even samples (i.e., 0, 1, 2, 3, ..., 10). Overplot the underlying signal in addition to the observations."
   ]
  },
  {
   "cell_type": "code",
   "execution_count": 36,
   "metadata": {
    "slideshow": {
     "slide_type": "slide"
    }
   },
   "outputs": [
    {
     "data": {
      "image/png": "[encoded data removed]",
      "text/plain": [
       "<Figure size 432x288 with 1 Axes>"
      ]
     },
     "metadata": {
      "needs_background": "light"
     },
     "output_type": "display_data"
    }
   ],
   "source": [
    "x = np.linspace(0,10,11)# complete\n",
    "y = gen_periodic_data(x, 2)# complete\n",
    "x_signal = np.linspace(0,10,100)# complete\n",
    "y_signal = gen_periodic_data(x_signal, 2)# complete\n",
    "fig, ax = plt.subplots()\n",
    "ax.plot(x_signal, y_signal, label = 'signal', zorder = 0) # complete\n",
    "ax.scatter(x,y, color = 'r',label = 'observations') # complete\n",
    "ax.legend()\n",
    "fig.tight_layout()"
   ]
  },
  {
   "cell_type": "markdown",
   "metadata": {
    "slideshow": {
     "slide_type": "slide"
    }
   },
   "source": [
    "Sampling a signal directly at the Nyquist frequency results in a lack of any variability. But does this just mean that $f_\\mathrm{Ny}$ is special? What happens at $f > f_\\mathrm{Ny}$?\n",
    "\n",
    "**Problem 2b**\n",
    "\n",
    "As above, generate and plot a periodic signal with $f = 0.7$ on an even grid from 0 to 10. Overplot the underlying signal in addition to the observations."
   ]
  },
  {
   "cell_type": "code",
   "execution_count": 40,
   "metadata": {
    "slideshow": {
     "slide_type": "slide"
    }
   },
   "outputs": [
    {
     "data": {
      "image/png": "[encoded data removed]",
      "text/plain": [
       "<Figure size 432x288 with 1 Axes>"
      ]
     },
     "metadata": {
      "needs_background": "light"
     },
     "output_type": "display_data"
    }
   ],
   "source": [
    "x = np.linspace(0,10,11)# complete\n",
    "y = gen_periodic_data(x, 1/0.7)# complete\n",
    "x_signal = np.linspace(0,10,100)# complete\n",
    "y_signal = gen_periodic_data(x_signal, 1/0.7)# complete\n",
    "fig, ax = plt.subplots()\n",
    "ax.plot(x_signal, y_signal, label = 'signal') # complete\n",
    "ax.scatter(x, y, color = 'r', label = 'obs') # complete\n",
    "ax.legend(loc = 'lower right')\n",
    "fig.tight_layout()"
   ]
  },
  {
   "cell_type": "markdown",
   "metadata": {
    "slideshow": {
     "slide_type": "slide"
    }
   },
   "source": [
    "From the plot the signal is clearly variable (unlike when $f = f_\\mathrm{Ny}$). However, there are fewer than 2 observations per cycle.\n",
    "\n",
    "**Problem 2c**\n",
    "\n",
    "Overplot a source with $f = 2.7$ on the same data shown in **2b**."
   ]
  },
  {
   "cell_type": "code",
   "execution_count": 65,
   "metadata": {
    "slideshow": {
     "slide_type": "slide"
    }
   },
   "outputs": [
    {
     "data": {
      "image/png": "[encoded data removed]",
      "text/plain": [
       "<Figure size 432x288 with 1 Axes>"
      ]
     },
     "metadata": {
      "needs_background": "light"
     },
     "output_type": "display_data"
    }
   ],
   "source": [
    "x = np.linspace(0,10,11)# complete\n",
    "y = gen_periodic_data(x, 1/0.7)# complete\n",
    "y2 = gen_periodic_data(x, 1/2.7)\n",
    "x_signal = np.linspace(0,10,1000)# complete\n",
    "y_signal = gen_periodic_data(x_signal, 1/0.7)# complete\n",
    "y2_signal = gen_periodic_data(x_signal, 1/2.7)\n",
    "fig, ax = plt.subplots()\n",
    "ax.plot(x_signal, y_signal, label = 'signal f = 0.7') # complete\n",
    "ax.plot(x_signal, y2_signal, label = 'signal f = 2.7') # complete\n",
    "ax.scatter(x, y, color = 'b', marker = 'o', label = 'obs f = 0.7', alpha = 0.2) # complete\n",
    "ax.scatter(x, y2, color = 'r', marker = 's', label = 'obs f = 2.7', alpha = 0.2) # complete\n",
    "ax.legend(loc = 'lower right')\n",
    "ax.set_xlabel('time')\n",
    "ax.set_ylabel('signal')\n",
    "fig.tight_layout()"
   ]
  },
  {
   "cell_type": "markdown",
   "metadata": {
    "slideshow": {
     "slide_type": "slide"
    }
   },
   "source": [
    "The observations are identical! Here is what you need to remember about the Nyquist frequency:\n",
    "\n",
    "  1. If you are going to obtain observations at *regular intervals*, and there is a specific signal you wish to detect, then be sure to sample the data such that $f_\\mathrm{Ny} > f_\\mathrm{signal}$.\n",
    "  2. For all $f > f_\\mathrm{Ny}$, $f$ will be aliased with $f \\pm 2n f_\\mathrm{Ny}$ signals, where $n$ is an integer. Practically speaking, this means it does not make sense to search for signals with $f > f_\\mathrm{Ny}$.\n",
    "  3. Finally, (and this is something that is often wrong in the literature) there is no Nyquist limit for unevenly sampled data (see VanderPlas 2017 for further details). Thus, for (virtually all) ground-based observing one need not worry about the Nyquist limit."
   ]
  },
  {
   "cell_type": "markdown",
   "metadata": {
    "slideshow": {
     "slide_type": "slide"
    }
   },
   "source": [
    "Staying on the topic of non-continuous observations, I present without derivation the discrete Fourier transform:\n",
    "\n",
    "$$ \\hat g_\\mathrm{obs}(f) = \\sum_{n = 0}^N g_n\\,e^{-2\\pi i f n\\Delta t}$$\n",
    "\n",
    "where $g_n = g(n\\Delta t)$, and $\\Delta t$ is the __sampling interval__. Our discussion of the Nyquist frequency tells us that we cannot detect frequencies $f > 1/2\\Delta T$. Thus, the relevant frequencies to search for power given $\\Delta t$ are between 0 and $f_\\mathrm{Ny}$, which we can sample on a grid $\\Delta f = 1/(N \\Delta t)$. From there:\n",
    "\n",
    "$$\\hat g_k = \\sum_{n = 0}^N g_n\\,e^{-2\\pi i f knN}$$\n",
    "\n",
    "where $\\hat g_k = \\hat g_\\mathrm{obs} (k\\Delta f)$. This is the discrete Fourier transform. "
   ]
  },
  {
   "cell_type": "markdown",
   "metadata": {
    "slideshow": {
     "slide_type": "subslide"
    }
   },
   "source": [
    "I said a full derivation will not be provided, and that is true. To understand how we went from a continuous integral to the summation above, recall that regular observations of a continous signal over a finite interval is equivalent to multiplying the continuous signal by a Dirac comb function and a window function. The delta functions from the Dirac comb function collapse the integral to a sum, while the window function limits that sum from $0$ to $N$."
   ]
  },
  {
   "cell_type": "markdown",
   "metadata": {
    "slideshow": {
     "slide_type": "slide"
    }
   },
   "source": [
    "From the discrete Fourier transform we can then calculate the periodogram (an estimator of the power spectrum):\n",
    "\n",
    "$$\\mathcal{P}(f) = \\frac{1}{N}\\left|\\sum_{n=1}^{N} g_n\\,e^{-2\\pi i f knN}\\right|^2$$\n",
    "\n",
    "which is also called the classical periodogram or the Schuster periodogram (Schuster 1898). "
   ]
  },
  {
   "cell_type": "markdown",
   "metadata": {
    "slideshow": {
     "slide_type": "slide"
    }
   },
   "source": [
    "## Problem 3) The LS Periodogram"
   ]
  },
  {
   "cell_type": "markdown",
   "metadata": {
    "slideshow": {
     "slide_type": "slide"
    }
   },
   "source": [
    "Of course, we ultimately care about applications where the data are __not perfectly uniformly sampled__ (even *Kepler* data is not uniformly sampled). We can re-write the classical periodogram in a more general way:\n",
    "\n",
    "$$\\mathcal{P}(f) = \\frac{1}{N}\\left|\\sum_{n=1}^{N} g_n\\,e^{-2\\pi i f t_n}\\right|^2$$\n",
    "\n",
    "where $t_n$ corresponds to the observation times. Irregular sampling removes a lot of the nice statistical properties of the discrete Fourier transform. Scargle (1982) was able to address these issues via a generalized form of the periodogram. \n",
    "\n",
    "[For completeness, there are some long equations that I should include here, but I won't...]"
   ]
  },
  {
   "cell_type": "markdown",
   "metadata": {
    "slideshow": {
     "slide_type": "slide"
    }
   },
   "source": [
    "Instead, I will simplify things slightly by using the fact that Scargle's modified periodogram is identical to the result one obtains by fitting a sinusoid model to the data at each frequency $f$ and constructing a \"periodogram\" from the corresponding $\\chi^2$ values at each frequency $f$ [this was considered in great detail by Lomb (1976)].\n",
    "\n",
    "*Note* - to this day I find this particular identity remarkable."
   ]
  },
  {
   "cell_type": "markdown",
   "metadata": {
    "slideshow": {
     "slide_type": "slide"
    }
   },
   "source": [
    "Thus, using the model:\n",
    "\n",
    "$$y(t;f) = A_f \\sin(2\\pi f(t - \\phi_f)$$\n",
    "\n",
    "we can calculate the $\\chi^2$ for every frequency $f$:\n",
    "\n",
    "$$\\chi^2 = \\sum_n (y_n - y(t_n; f))^2$$\n",
    "\n",
    "The \"best\" model for a given frequency requires the selection of $A_f$ and $\\phi_f$ that minimizes $\\chi^2$, which we will call $\\hat \\chi^2$. Scargle (1982) then showed that the Lomb-Scargle periodogram can be written \n",
    "\n",
    "$$\\mathcal{P}_\\mathrm{LS}(f) = \\frac{1}{2}\\left[ \\hat \\chi^2_0 - \\hat \\chi^2(f) \\right]$$\n",
    "\n",
    "where $\\hat \\chi^2_0$ is the value for a non-varying reference model."
   ]
  },
  {
   "cell_type": "markdown",
   "metadata": {
    "slideshow": {
     "slide_type": "slide"
    }
   },
   "source": [
    "This realization further enables the inclusion of observational uncertainty in the periodogram, via a familiar adjustment to the $\\chi^2$ value:\n",
    "\n",
    "$$\\chi^2 = \\sum_n \\left(\\frac{y_n - y(t_n; f)}{\\sigma_n}\\right)^2$$\n",
    "\n",
    "where $\\sigma_n$ is the uncertainty on the individual measurements, $y_n$. "
   ]
  },
  {
   "cell_type": "markdown",
   "metadata": {
    "slideshow": {
     "slide_type": "slide"
    }
   },
   "source": [
    "From here it follows that we can construct a LS periodogram. \n",
    "\n",
    "**Problem 3a**\n",
    "\n",
    "Write a function, `chi2`, to calculate the $\\chi^2$ given $f$, $A_f$, and $\\phi$, for observations $y_n$ with uncertainties $\\sigma_{y,n}$ taken at times $t_n$.\n",
    "\n",
    "*Hint* - it may be helpful to access $A_f$, and $\\phi$ from a single variable `theta`, where `a = theta[0]` and `phi = theta[1]`"
   ]
  },
  {
   "cell_type": "code",
   "execution_count": 66,
   "metadata": {},
   "outputs": [],
   "source": [
    "gen_periodic_data?"
   ]
  },
  {
   "cell_type": "code",
   "execution_count": 76,
   "metadata": {
    "slideshow": {
     "slide_type": "slide"
    }
   },
   "outputs": [],
   "source": [
    "def chi2(theta, f, yn, sigma, tn): # complete\n",
    "    Af = theta[0]\n",
    "    phi = theta[1]\n",
    "    model = gen_periodic_data(tn, 1/f, Af, phi)\n",
    "    \n",
    "    return np.sum((yn - model) ** 2 / sigma ** 2)"
   ]
  },
  {
   "cell_type": "markdown",
   "metadata": {
    "slideshow": {
     "slide_type": "slide"
    }
   },
   "source": [
    "**Problem 3b**\n",
    "\n",
    "Write a function to minimize the $\\chi^2$ given everything but $A_f$ and $\\phi_f$.\n",
    "\n",
    "*Hint* - you may find [`minimize`](https://docs.scipy.org/doc/scipy/reference/generated/scipy.optimize.minimize.html) within the `scipy` package useful."
   ]
  },
  {
   "cell_type": "code",
   "execution_count": 80,
   "metadata": {
    "slideshow": {
     "slide_type": "slide"
    }
   },
   "outputs": [],
   "source": [
    "from scipy.optimize import minimize\n",
    "\n",
    "def min_chi2(theta, f, yn, sigma, tn):\n",
    "    # Minimize chi2 for the following model\n",
    "    return minimize(chi2, theta, args=(f, yn, sigma, tn)).fun"
   ]
  },
  {
   "cell_type": "markdown",
   "metadata": {
    "slideshow": {
     "slide_type": "slide"
    }
   },
   "source": [
    "**Problem 3c**\n",
    "\n",
    "Write a function, `ls_periodogram`, to calculate the LS periodogram for observations $y$, $\\sigma_y$, $t$ over a frequency grid `f_grid`."
   ]
  },
  {
   "cell_type": "code",
   "execution_count": 89,
   "metadata": {
    "slideshow": {
     "slide_type": "slide"
    }
   },
   "outputs": [],
   "source": [
    "def ls_periodogram(y, y_err, t, f_grid):\n",
    "    psd = np.empty_like(f_grid)\n",
    "    chi2_0 = np.sum(((y - y.mean()) / y_err)**2)\n",
    "    for f_num, f in enumerate(f_grid):\n",
    "        chi2_f = min_chi2([y.std(), 0.1], f, y, y_err, t)\n",
    "        psd[f_num] = 0.5 * (chi2_0 - chi2_f)\n",
    "    \n",
    "    return psd"
   ]
  },
  {
   "cell_type": "markdown",
   "metadata": {
    "slideshow": {
     "slide_type": "slide"
    }
   },
   "source": [
    "**Problem 3d**\n",
    "\n",
    "Generate a periodic signal with 100 observations taken over a time period of 10 days. Use an input period of 5.25, amplitude of 7.4, and variance of the noise = 0.8. Then compute and plot the periodogram for the simulated data. Do you recover the simulated period?\n",
    "\n",
    "*Hint* - set the minimum frequency in the grid to $1/T$ where $T$ is the duration of the observations. Set the maximum frequnecy to 10, and use an equally spaced grid with 50 points. "
   ]
  },
  {
   "cell_type": "code",
   "execution_count": 90,
   "metadata": {
    "slideshow": {
     "slide_type": "slide"
    }
   },
   "outputs": [],
   "source": [
    "np.random.seed(23)\n",
    "# calculate the periodogram\n",
    "\n",
    "x = 10 * np.random.rand(100)\n",
    "y = gen_periodic_data(x, 5.25, 7.4, noise=0.8)\n",
    "y_unc = np.random.normal(scale = np.sqrt(0.8), size=len(x))\n",
    "\n",
    "f_grid = np.linspace(1./np.ptp(x), 10, 50)\n",
    "\n",
    "psd_ls = ls_periodogram(y, y_unc, x, f_grid)# complete"
   ]
  },
  {
   "cell_type": "code",
   "execution_count": 93,
   "metadata": {
    "slideshow": {
     "slide_type": "slide"
    }
   },
   "outputs": [
    {
     "data": {
      "image/png": "[encoded data removed]",
      "text/plain": [
       "<Figure size 432x288 with 1 Axes>"
      ]
     },
     "metadata": {
      "needs_background": "light"
     },
     "output_type": "display_data"
    }
   ],
   "source": [
    "# plot the periodogram\n",
    "fig, ax = plt.subplots()\n",
    "ax.plot(1/f_grid, psd_ls) # complete\n",
    "ax.set_xlabel('Frequencies')\n",
    "ax.set_ylabel('Power??')\n",
    "fig.tight_layout()"
   ]
  },
  {
   "cell_type": "markdown",
   "metadata": {
    "slideshow": {
     "slide_type": "slide"
    }
   },
   "source": [
    "**Problem 3e**\n",
    "\n",
    "For the same data, include 1000 points in `f_grid` and calculate and plot the periodogram. \n",
    "\n",
    "Now do you recover the correct period?"
   ]
  },
  {
   "cell_type": "code",
   "execution_count": 94,
   "metadata": {
    "slideshow": {
     "slide_type": "slide"
    }
   },
   "outputs": [
    {
     "name": "stderr",
     "output_type": "stream",
     "text": [
      "/home/daniela/anaconda3/envs/DSFP/lib/python3.6/site-packages/scipy/optimize/optimize.py:1020: RuntimeWarning: divide by zero encountered in double_scalars\n",
      "  rhok = 1.0 / (numpy.dot(yk, sk))\n",
      "/home/daniela/anaconda3/envs/DSFP/lib/python3.6/site-packages/scipy/optimize/optimize.py:1020: RuntimeWarning: divide by zero encountered in double_scalars\n",
      "  rhok = 1.0 / (numpy.dot(yk, sk))\n",
      "/home/daniela/anaconda3/envs/DSFP/lib/python3.6/site-packages/scipy/optimize/optimize.py:1020: RuntimeWarning: divide by zero encountered in double_scalars\n",
      "  rhok = 1.0 / (numpy.dot(yk, sk))\n",
      "/home/daniela/anaconda3/envs/DSFP/lib/python3.6/site-packages/scipy/optimize/optimize.py:1020: RuntimeWarning: divide by zero encountered in double_scalars\n",
      "  rhok = 1.0 / (numpy.dot(yk, sk))\n",
      "/home/daniela/anaconda3/envs/DSFP/lib/python3.6/site-packages/scipy/optimize/optimize.py:1020: RuntimeWarning: divide by zero encountered in double_scalars\n",
      "  rhok = 1.0 / (numpy.dot(yk, sk))\n",
      "/home/daniela/anaconda3/envs/DSFP/lib/python3.6/site-packages/scipy/optimize/optimize.py:1020: RuntimeWarning: divide by zero encountered in double_scalars\n",
      "  rhok = 1.0 / (numpy.dot(yk, sk))\n"
     ]
    }
   ],
   "source": [
    "# calculate the periodogram\n",
    "f_grid = np.linspace(1./np.ptp(x), 10, 1000)\n",
    "\n",
    "psd_ls = ls_periodogram(y, y_unc, x, f_grid)"
   ]
  },
  {
   "cell_type": "code",
   "execution_count": 95,
   "metadata": {
    "slideshow": {
     "slide_type": "slide"
    }
   },
   "outputs": [
    {
     "name": "stdout",
     "output_type": "stream",
     "text": [
      "The best fit period is: 5.2239\n"
     ]
    },
    {
     "data": {
      "image/png": "[encoded data removed]",
      "text/plain": [
       "<Figure size 432x288 with 1 Axes>"
      ]
     },
     "metadata": {
      "needs_background": "light"
     },
     "output_type": "display_data"
    }
   ],
   "source": [
    "# plot the periodogram\n",
    "# plot the periodogram\n",
    "fig, ax = plt.subplots()\n",
    "ax.plot(1/f_grid, psd_ls) # complete\n",
    "ax.set_xlabel('Frequencies')\n",
    "ax.set_ylabel('Power??')\n",
    "fig.tight_layout()\n",
    "\n",
    "print(\"The best fit period is: {:.4f}\".format(1/f_grid[psd_ls.argmax()])) # complete"
   ]
  },
  {
   "cell_type": "markdown",
   "metadata": {
    "slideshow": {
     "slide_type": "slide"
    }
   },
   "source": [
    "**Problem 3f**\n",
    "\n",
    "Plot the phase-folded data at the newly found \"best\" fit period."
   ]
  },
  {
   "cell_type": "code",
   "execution_count": 96,
   "metadata": {},
   "outputs": [],
   "source": [
    "phase_plot?"
   ]
  },
  {
   "cell_type": "code",
   "execution_count": 100,
   "metadata": {
    "slideshow": {
     "slide_type": "slide"
    }
   },
   "outputs": [
    {
     "data": {
      "image/png": "[encoded data removed]",
      "text/plain": [
       "<Figure size 432x288 with 1 Axes>"
      ]
     },
     "metadata": {
      "needs_background": "light"
     },
     "output_type": "display_data"
    }
   ],
   "source": [
    "phase_plot(x, y, 1/f_grid[psd_ls.argmax()], y_unc=y_unc) # complete"
   ]
  },
  {
   "cell_type": "markdown",
   "metadata": {
    "slideshow": {
     "slide_type": "slide"
    }
   },
   "source": [
    "### Congratulations\n",
    "\n",
    "You did it! You just developed the software necessary to find periodic signals in sparsely sampled, noisy data.\n",
    "\n",
    "You are ready to conquer LSST."
   ]
  },
  {
   "cell_type": "markdown",
   "metadata": {
    "slideshow": {
     "slide_type": "slide"
    }
   },
   "source": [
    "**But wait!**\n",
    "\n",
    "There should be a few things that are bothering you. \n",
    "\n",
    "First and foremost, why did we use a grid with 50 points and then increase that to 1000 points for the previous simulation?"
   ]
  },
  {
   "cell_type": "markdown",
   "metadata": {
    "slideshow": {
     "slide_type": "slide"
    }
   },
   "source": [
    "There are many important ramifications following the choice of an evaluation grid for the LS periodogram. When selecting the grid upon which to evaluate $f$ one must determine both the limits for the grid and the spacing within the grid. \n",
    "\n",
    "The minimum frequency is straightforward: $f_\\mathrm{min} = 1/T$ corresponds to a signal that experiences 1 cycle in the span of the data. Computationally, $f_\\mathrm{min} = 0$ does not add much time. "
   ]
  },
  {
   "cell_type": "markdown",
   "metadata": {
    "slideshow": {
     "slide_type": "slide"
    }
   },
   "source": [
    "The maximum frequency is straightforward: $f_\\mathrm{Ny}$ (**if** you have evenly spaced data). What if the data are not evenly spaced (a situation for which we said $f_\\mathrm{Ny}$ does not exist? \n",
    "\n",
    "There are many ad-hoc methods described in the literature, such as $f_\\mathrm{max} = 1/<\\Delta T>$, where $<\\Delta T>$ is the mean separation of consecutive observations. Again - this is *not* correct.\n",
    "\n",
    "[VanderPlas (2017)](https://arxiv.org/abs/1703.09824) discusses maximum frequencies for non-uniform data (see that paper for more details). My useful practical advice is to set $f_\\mathrm{max}$ to the maximum frequency that you might expect to see in the data (for example, with the exception of a few extreme white dwarf systems, essentially no stars show periodicity at $< 1\\,\\mathrm{hr}$)."
   ]
  },
  {
   "cell_type": "markdown",
   "metadata": {
    "slideshow": {
     "slide_type": "slide"
    }
   },
   "source": [
    "Of course, we still haven't decided what grid to adopt. As we saw above - if we use too few points, we will not resolve the peak in the periodogram. Alternatively, if we include too many points in the grid we will waste a lot of computation. \n",
    "\n",
    "Fortunately, figuring out $\\Delta f$ is relatively straightfoward: from above we saw that the Fourier transform of a window function of length $T$ produces a sinc signal with width $\\sim 1/T$. Thus, we need $\\Delta f$ to sample $\\sim 1/T$, which means $\\Delta f = 1/n_0T$, where $n_0$ is a constant, and 5 is a good choice for $n_0$."
   ]
  },
  {
   "cell_type": "markdown",
   "metadata": {
    "slideshow": {
     "slide_type": "slide"
    }
   },
   "source": [
    "**Problem 3g**\n",
    "\n",
    "Calculate the optimal grid for sampling LSST data. Assume that the time measurements are carried out in units of days, the survey lasts for 10 years and the shortest period expected in the data is 1 hr. \n",
    "\n",
    "How many evaluations are needed to calculate the periodogram?"
   ]
  },
  {
   "cell_type": "code",
   "execution_count": 104,
   "metadata": {
    "slideshow": {
     "slide_type": "slide"
    }
   },
   "outputs": [
    {
     "name": "stdout",
     "output_type": "stream",
     "text": [
      "437995 grid points are needed to sample the periodogram\n"
     ]
    }
   ],
   "source": [
    "f_min = 1 / (365 * 10)  \n",
    "f_max = 1 / (1 / 24) \n",
    "delta_f = f_min / 5  #10 for a finer exploration\n",
    "\n",
    "f_grid = np.arange(f_min, f_max, delta_f) \n",
    "\n",
    "print(\"{:d} grid points are needed to sample the periodogram\".format(len(f_grid)))"
   ]
  },
  {
   "cell_type": "markdown",
   "metadata": {
    "slideshow": {
     "slide_type": "slide"
    }
   },
   "source": [
    "## Problem 4) Other Considerations and Faster Implementations"
   ]
  },
  {
   "cell_type": "markdown",
   "metadata": {
    "slideshow": {
     "slide_type": "slide"
    }
   },
   "source": [
    "While `ls_periodogram` functions well, it would take a long time to evaluate $\\sim4\\times 10^5$ frequencies for $\\sim2\\times 10^7$ variable LSST sources. Fortunately, there are significantly faster implementations, including (as you may have guessed) one in `astropy`.\n",
    "\n",
    "**Problem 4a**\n",
    "\n",
    "[`LombScargle`](http://docs.astropy.org/en/stable/stats/lombscargle.html) in `astropy.stats` is fast. Run it below to compare to `ls_periodogram`."
   ]
  },
  {
   "cell_type": "code",
   "execution_count": 105,
   "metadata": {
    "slideshow": {
     "slide_type": "slide"
    }
   },
   "outputs": [],
   "source": [
    "from astropy.stats import LombScargle\n",
    "frequency, power = LombScargle(x, y, y_unc).autopower()"
   ]
  },
  {
   "cell_type": "markdown",
   "metadata": {
    "slideshow": {
     "slide_type": "slide"
    }
   },
   "source": [
    "Unlike `ls_periodogram`, `LombScargle` effectively takes no time to run on the simulated data. \n",
    "\n",
    "**Problem 4b**\n",
    "\n",
    "Plot the periodogram for the simulated data."
   ]
  },
  {
   "cell_type": "code",
   "execution_count": 108,
   "metadata": {
    "slideshow": {
     "slide_type": "slide"
    }
   },
   "outputs": [
    {
     "name": "stdout",
     "output_type": "stream",
     "text": [
      "The best Period chosen by astropy's Lomb Scargle is 5.146832130766078\n"
     ]
    },
    {
     "data": {
      "image/png": "[encoded data removed]",
      "text/plain": [
       "<Figure size 432x288 with 1 Axes>"
      ]
     },
     "metadata": {
      "needs_background": "light"
     },
     "output_type": "display_data"
    }
   ],
   "source": [
    "fig, ax = plt.subplots()\n",
    "\n",
    "ax.plot(1 / frequency, power)\n",
    "ax.set_xlabel('Period')\n",
    "ax.set_ylabel('Power')\n",
    "fig.tight_layout()\n",
    "\n",
    "print(\"The best Period chosen by astropy's Lomb Scargle is {}\".format(1 / frequency[power.argmax()]))"
   ]
  },
  {
   "cell_type": "code",
   "execution_count": 109,
   "metadata": {},
   "outputs": [
    {
     "data": {
      "image/png": "[encoded data removed]",
      "text/plain": [
       "<Figure size 432x288 with 1 Axes>"
      ]
     },
     "metadata": {
      "needs_background": "light"
     },
     "output_type": "display_data"
    }
   ],
   "source": [
    "# Folded data\n",
    "\n",
    "phase_plot(x, y, 1/frequency[power.argmax()], y_unc=y_unc)"
   ]
  },
  {
   "cell_type": "markdown",
   "metadata": {
    "slideshow": {
     "slide_type": "slide"
    }
   },
   "source": [
    "There are many choices regarding the calculation of the periodogram, so [read the docs](http://docs.astropy.org/en/stable/api/astropy.stats.LombScargle.html#astropy.stats.LombScargle)."
   ]
  },
  {
   "cell_type": "markdown",
   "metadata": {
    "slideshow": {
     "slide_type": "slide"
    }
   },
   "source": [
    "### Floating Mean Periodogram\n",
    "\n",
    "A basic assumption that we preivously made is that the data are \"centered\" - in other words, our model explicitly assumes that the signal oscillates about a mean of 0.\n",
    "\n",
    "For astronomical applications, this assumption can be harmful. Instead, it is useful to fit for the mean of the signal in addition to the periodic component (as is the default in `LombScargle`):\n",
    "\n",
    "$$y(t;f) = y_0(f) + A_f \\sin(2\\pi f(t - \\phi_f).$$"
   ]
  },
  {
   "cell_type": "markdown",
   "metadata": {
    "slideshow": {
     "slide_type": "slide"
    }
   },
   "source": [
    "To illustrate why this is important for astronomy, assume that any signal fainter than $-2$ in our simulated data cannot be detected. \n",
    "\n",
    "**Problem 4c**\n",
    "\n",
    "Remove the observations from `x` and `y` where $y \\le -2$ and calculate the periodogram both with and without fitting the mean (`fit_mean = False` in the call to `LombScargle`). Plot the periodograms. Do both methods recover the correct period? "
   ]
  },
  {
   "cell_type": "code",
   "execution_count": 126,
   "metadata": {
    "slideshow": {
     "slide_type": "slide"
    }
   },
   "outputs": [
    {
     "data": {
      "image/png": "[encoded data removed]",
      "text/plain": [
       "<Figure size 432x288 with 2 Axes>"
      ]
     },
     "metadata": {
      "needs_background": "light"
     },
     "output_type": "display_data"
    }
   ],
   "source": [
    "# complete\n",
    "freq_no_mean, power_no_mean = LombScargle(x[np.where(y > -2)],\n",
    "                                          y[np.where(y > -2)], \n",
    "                                          y_unc[np.where(y > -2)], fit_mean = False).autopower()\n",
    "freq_fit_mean, power_fit_mean = LombScargle(x[np.where(y > -2)],\n",
    "                                            y[np.where(y > -2)],\n",
    "                                            y_unc[np.where(y > -2)],fit_mean = True).autopower()\n",
    "    \n",
    "fig, (ax1, ax2) = plt.subplots(2, 1, sharex=True)\n",
    "ax1.plot(1 / freq_no_mean, power_no_mean, label = 'no mean')\n",
    "ax2.plot(1 / freq_fit_mean, power_fit_mean, label = 'mean')\n",
    "ax1.set_xlim(0,15)\n",
    "ax2.set_xlabel('Period')\n",
    "ax1.set_ylabel('Power')\n",
    "ax2.set_ylabel('Power')\n",
    "ax1.legend()\n",
    "ax2.legend()\n",
    "fig.tight_layout()"
   ]
  },
  {
   "cell_type": "markdown",
   "metadata": {
    "slideshow": {
     "slide_type": "slide"
    }
   },
   "source": [
    "We can see that the best fit model doesn't match the signal in the case where we do not allow a floating mean."
   ]
  },
  {
   "cell_type": "code",
   "execution_count": 127,
   "metadata": {
    "slideshow": {
     "slide_type": "slide"
    }
   },
   "outputs": [
    {
     "data": {
      "image/png": "[encoded data removed]",
      "text/plain": [
       "<Figure size 432x288 with 1 Axes>"
      ]
     },
     "metadata": {
      "needs_background": "light"
     },
     "output_type": "display_data"
    }
   ],
   "source": [
    "bright = np.where(y > -2)\n",
    "\n",
    "fit_mean_model = LombScargle(x[bright], y[bright], y_unc[bright], \n",
    "                             fit_mean=True).model(np.linspace(0,10,1000),\n",
    "                                                  freq_fit_mean[np.argmax(power_fit_mean)])\n",
    "no_mean_model = LombScargle(x[bright], y[bright], y_unc[bright], \n",
    "                             fit_mean=False).model(np.linspace(0,10,1000),\n",
    "                                                  freq_no_mean[np.argmax(power_no_mean)])\n",
    "\n",
    "fig, ax = plt.subplots()\n",
    "ax.errorbar(x[bright], y[bright], y_unc[bright], fmt='o', label='data')\n",
    "ax.plot(np.linspace(0,10,1000), fit_mean_model, label='fit mean')\n",
    "ax.plot(np.linspace(0,10,1000), no_mean_model, label='no mean')\n",
    "ax.set_xlabel('x')\n",
    "ax.set_ylabel('y')\n",
    "ax.legend()\n",
    "fig.tight_layout()"
   ]
  },
  {
   "cell_type": "markdown",
   "metadata": {
    "slideshow": {
     "slide_type": "slide"
    }
   },
   "source": [
    "### Window Functions\n",
    "\n",
    "Recall that the convolution theorem tells us that:\n",
    "\n",
    "$$\\mathcal{F}[f\\cdot g] = \\mathcal{F}(f) \\ast \\mathcal{F}(g)$$\n",
    "\n",
    "Telescope observations are effectively the product of a continous signal with several delta functions (corresponding to the times of observations). As a result, the convolution that produces the periodogram will retain signal from both the source and the observational cadence."
   ]
  },
  {
   "cell_type": "markdown",
   "metadata": {
    "slideshow": {
     "slide_type": "slide"
    }
   },
   "source": [
    "To illustrate this effect, let us simulate \"realistic\" observations for a 10 year telescope survey. We do this by assuming that a source is observed every 3 nights (the LSST cadence) within $\\pm 4\\,\\mathrm{hr}$ of the same time, and that $\\sim 30\\%$ of the observations did not occur due to bad weather. We further assume that the source cannot be observed for 40% of the year because it is behind the sun.\n",
    "\n",
    "Simulate a periodic signal with this cadence, a period = 220 days (typical for Miras), amplitude = 12.4, and noise = 1. Plot the simulated light curve."
   ]
  },
  {
   "cell_type": "markdown",
   "metadata": {
    "slideshow": {
     "slide_type": "slide"
    }
   },
   "source": [
    "**Problem 4d**\n",
    "\n",
    "Simulate a periodic signal with 3 day cadence (and the observing conditions described above), a period = 220 days (typical for Miras), amplitude = 12.4, and variance of the noise = 1. Plot the simulated light curve."
   ]
  },
  {
   "cell_type": "code",
   "execution_count": null,
   "metadata": {
    "slideshow": {
     "slide_type": "slide"
    }
   },
   "outputs": [],
   "source": [
    "# set up simulated observations\n",
    "t_obs = np.arange(0, 10*365, 3)      # 3d cadence\n",
    "# complete\n",
    "# complete\n",
    "# complete\n",
    "\n",
    "y = gen_periodic_data( # complete\n",
    "# complete\n",
    "\n",
    "fig, ax = plt.subplots()\n",
    "ax.errorbar( # complete\n",
    "ax.set_xlabel(\"Time (d)\")\n",
    "\n",
    "ax.set_ylabel(\"Flux (arbitrary units)\")"
   ]
  },
  {
   "cell_type": "markdown",
   "metadata": {
    "slideshow": {
     "slide_type": "slide"
    }
   },
   "source": [
    "**Problem 4e**\n",
    "\n",
    "Calculate and plot the periodogram for the window function (i.e., set `y = 1` in `LombScargle`) of the observations. Do you notice any significant power? \n",
    "\n",
    "*Hint* - you may need to zoom in on the plot to see all the relevant features."
   ]
  },
  {
   "cell_type": "code",
   "execution_count": null,
   "metadata": {
    "slideshow": {
     "slide_type": "slide"
    }
   },
   "outputs": [],
   "source": [
    "ls = LombScargle( # complete\n",
    "    \n",
    "freq_window, power_window = # complete\n",
    "\n",
    "fig, ax = plt.subplots()\n",
    "ax.plot( # complete\n",
    "ax.set_ylabel(\"Power\")\n",
    "ax.set_xlabel(\"Period (d)\")\n",
    "ax.set_xlim(0,500)\n",
    "\n",
    "axins = plt.axes([.2, .65, .5, .2])\n",
    "axins.plot( # complete\n",
    "axins.set_xlim(0,5)"
   ]
  },
  {
   "cell_type": "markdown",
   "metadata": {
    "slideshow": {
     "slide_type": "slide"
    }
   },
   "source": [
    "Interestingly, there are very strong peaks in the data at $P \\approx 3\\,\\mathrm{d} \\;\\&\\; 365\\,\\mathrm{d}$. \n",
    "\n",
    "What is this telling us? Essentially that observations are likely to be repeated at intervals of 3 or 365 days (shorter period spikes are aliases of the 3 d peak).\n",
    "\n",
    "This is important to understand, however, because this same power will be present in the periodogram where we search for the periodic signal."
   ]
  },
  {
   "cell_type": "markdown",
   "metadata": {
    "slideshow": {
     "slide_type": "slide"
    }
   },
   "source": [
    "**Problem 4f**\n",
    "\n",
    "Calculate the periodogram for the data and compare it to the periodogram for the window function. "
   ]
  },
  {
   "cell_type": "code",
   "execution_count": null,
   "metadata": {
    "slideshow": {
     "slide_type": "slide"
    }
   },
   "outputs": [],
   "source": [
    "ls = LombScargle( # complete\n",
    "\n",
    "frequency, power = # complete\n",
    "\n",
    "fig, (ax,ax2) = plt.subplots(2,1, sharex=True)\n",
    "ax.plot( # complete\n",
    "ax.set_ylabel(\"Power\")\n",
    "ax.set_ylim(0,1)\n",
    "\n",
    "ax2.plot( # complete\n",
    "ax2.set_ylabel(\"Power\")\n",
    "ax2.set_xlabel(\"Period (d)\")\n",
    "ax2.set_xlim(0,10)\n",
    "fig.tight_layout()"
   ]
  },
  {
   "cell_type": "markdown",
   "metadata": {
    "slideshow": {
     "slide_type": "slide"
    }
   },
   "source": [
    "### Uncertainty on the best-fit period\n",
    "\n",
    "How do we report uncertainties on the best-fit period from LS? For example, for the previously simulated LSST light curve we would want to report something like $P = 102 \\pm 4\\,\\mathrm{d}$. However, the uncertainty from LS periodograms cannot be determined in this way. "
   ]
  },
  {
   "cell_type": "markdown",
   "metadata": {
    "slideshow": {
     "slide_type": "slide"
    }
   },
   "source": [
    "Naively, one could report the width of the peak in the periodogram as the uncertainty in the fit. However, we previously saw that the peak width $\\propto 1/T$ (the peak width does not decrease as the number of observations or their S/N increases; see Vander Plas 2017). Reporting such an uncertainty is particularly ridiculous for long duration surveys, whereby the peaks become very very narrow."
   ]
  },
  {
   "cell_type": "markdown",
   "metadata": {
    "slideshow": {
     "slide_type": "slide"
    }
   },
   "source": [
    "An alternative approach is to report the False Alarm Probability (FAP), which estimates the probability that a dataset with no periodic signal could produce a peak of similar magnitude, due to random gaussian fluctuations, as the data. \n",
    "\n",
    "There are a few different methods to calculate the FAP. Perhaps the most useful, however, is the bootstrap method. To obtain a bootstrap estimate of the LS FAP one leaves the observation times fixed, and then draws new observation values with replacement from the actual set of observations. This procedure is then repeated many times to determine the FAP. "
   ]
  },
  {
   "cell_type": "markdown",
   "metadata": {
    "slideshow": {
     "slide_type": "slide"
    }
   },
   "source": [
    "One nice advantage of this procedure is that any effects due to the window function will be imprinted in each iteration of the bootstrap resampling. \n",
    "\n",
    "The major disadvantage is that many many periodograms must be calculated. The rule of thumb is that to acieve a FAP $= p_\\mathrm{false}$, one must run $n_\\mathrm{boot} \\approx 10/p_\\mathrm{false}$ bootstrap periodogram calculations. Thus, an FAP $\\approx 0.1\\%$ requires an increase of 1000 in computational time. \n",
    "\n",
    "`LombScargle` provides the [`false_alarm_probability`](One nice advantage of this procedure is that any effects due to the window function will be imprinted in each iteration of the bootstrap resampling. The major disadvantage is that many many periodograms must be calculated) method, including a bootstrap option. We skip that for now in the interest of time."
   ]
  },
  {
   "cell_type": "markdown",
   "metadata": {
    "slideshow": {
     "slide_type": "slide"
    }
   },
   "source": [
    "As a final note of caution - be weary of over-interpreting the FAP. The specific question answered by the FAP is, what is the probability that gaussian fluctations could produce a signal of equivalent magnitude? Whereas, the question we generally want to answer is: did a periodic signal produce these data?\n",
    "\n",
    "These questions are very different, and thus, the FAP cannot be used to *prove* that a source is periodic."
   ]
  },
  {
   "cell_type": "markdown",
   "metadata": {
    "slideshow": {
     "slide_type": "slide"
    }
   },
   "source": [
    "## Problem 5) Real-world considerations\n",
    "\n",
    "We have covered many, though not all, considerations that are necessary when employing a Lomb Scargle periodogram. We have not yet, however, encountered real world data. Here we highlight some of the issues associated with astronomical light curves. \n",
    "\n",
    "We will now use LS to analyze actual data from the [All Sky Automated Survey (ASAS)](http://www.astrouw.edu.pl/asas/?page=catalogues). Download the [example light curve](https://northwestern.box.com/s/rclcz4lkcdfjn4829p8pa5ddfmcyd0gm)."
   ]
  },
  {
   "cell_type": "markdown",
   "metadata": {
    "slideshow": {
     "slide_type": "slide"
    }
   },
   "source": [
    "**Problem 5a**\n",
    "\n",
    "Read in the light curve from example_asas_lc.dat. Plot the light curve.\n",
    "\n",
    "*Hint* - I recommend using `astropy Tables` or `pandas dataframe`."
   ]
  },
  {
   "cell_type": "code",
   "execution_count": null,
   "metadata": {
    "slideshow": {
     "slide_type": "slide"
    }
   },
   "outputs": [],
   "source": [
    "data = # complete\n",
    "\n",
    "fig, ax = plt.subplots()\n",
    "ax.errorbar( # complete\n",
    "ax.set_xlabel('HJD (d)')\n",
    "ax.set_ylabel('V (mag)')\n",
    "ax.set_ylim(ax.get_ylim()[::-1])\n",
    "fig.tight_layout()"
   ]
  },
  {
   "cell_type": "markdown",
   "metadata": {
    "slideshow": {
     "slide_type": "slide"
    }
   },
   "source": [
    "**Problem 5b**\n",
    "\n",
    "Use `LombScargle` to measure the periodogram. Then plot the periodogram and the phase folded light curve at the best-fit period.\n",
    "\n",
    "*Hint* - search periods longer than 2 hr."
   ]
  },
  {
   "cell_type": "code",
   "execution_count": null,
   "metadata": {
    "slideshow": {
     "slide_type": "slide"
    }
   },
   "outputs": [],
   "source": [
    "frequency, power = # complete\n",
    "\n",
    "# complete\n",
    "\n",
    "fig,ax = plt.subplots()\n",
    "\n",
    "ax.plot(# complete\n",
    "ax.set_ylabel(\"Power\")\n",
    "ax.set_xlabel(\"Period (d)\")\n",
    "ax.set_xlim(0, 800)\n",
    "\n",
    "axins = plt.axes([.25, .55, .6, .3])\n",
    "axins.plot( # complete\n",
    "axins.set_xlim(0,5)\n",
    "fig.tight_layout()"
   ]
  },
  {
   "cell_type": "code",
   "execution_count": null,
   "metadata": {
    "slideshow": {
     "slide_type": "slide"
    }
   },
   "outputs": [],
   "source": [
    "# plot the phase folded light curve\n",
    "phase_plot( # complete"
   ]
  },
  {
   "cell_type": "markdown",
   "metadata": {
    "slideshow": {
     "slide_type": "slide"
    }
   },
   "source": [
    "**Problem 5c**\n",
    "\n",
    "Now plot the light curve folded at twice the best LS period.\n",
    "\n",
    "Which of these 2 is better? "
   ]
  },
  {
   "cell_type": "code",
   "execution_count": null,
   "metadata": {
    "slideshow": {
     "slide_type": "slide"
    }
   },
   "outputs": [],
   "source": [
    "phase_plot( # complete"
   ]
  },
  {
   "cell_type": "markdown",
   "metadata": {
    "slideshow": {
     "slide_type": "slide"
    }
   },
   "source": [
    "Herein lies a fundamental issue regarding the LS periodogram: the model does not search for \"periodicity.\" The LS model asks if the data support a sinusoidal signal. As astronomers we typically assume this question is good enough, but as we can see in the example of this eclipsing binary that is not the case [and this is not limited to eclipsing binaries]. \n",
    "\n",
    "We can see why LS is not sufficient for an EB by comparing the model to the phase-folded light curve:"
   ]
  },
  {
   "cell_type": "code",
   "execution_count": null,
   "metadata": {
    "slideshow": {
     "slide_type": "slide"
    }
   },
   "outputs": [],
   "source": [
    "fig, ax = plt.subplots()\n",
    "\n",
    "ax.errorbar(data['hjd']/ls_period % 1, data['mag'], data['mag_unc'], fmt='o', zorder=-1)\n",
    "ax.plot(np.linspace(0,1,1000), \n",
    "        LombScargle(data['hjd'],data['mag'], data['mag_unc']).model(np.linspace(0,1,1000)*ls_period, 1/ls_period) )\n",
    "ax.set_xlabel('Phase')\n",
    "ax.set_ylabel('V (mag)')\n",
    "ax.set_ylim(ax.get_ylim()[::-1])\n",
    "fig.tight_layout()"
   ]
  },
  {
   "cell_type": "markdown",
   "metadata": {
    "slideshow": {
     "slide_type": "slide"
    }
   },
   "source": [
    "One way to combat this very specific issue is to include more Fourier terms at the harmonic of the best fit period. This is easy to implement in `LombScargle` with the `nterms` keyword. [Though always be weary of adding degrees of freedom to a model, especially at the large pipeline level of analysis.]\n",
    "\n",
    "**Problem 5d**\n",
    "\n",
    "Calculate the LS periodogram for the eclipsing binary, with `nterms` = 1, 2, 3, 4, 5. Report the best-fit period for each of these models.\n",
    "\n",
    "*Hint* - we have good reason to believe that the best fit frequency is < 3 in this case, so set `maximum_frequency = 3`."
   ]
  },
  {
   "cell_type": "code",
   "execution_count": null,
   "metadata": {
    "slideshow": {
     "slide_type": "slide"
    }
   },
   "outputs": [],
   "source": [
    "for i in np.arange(1,6):\n",
    "    frequency, power = # complete\n",
    "    # complete\n",
    "    print('For {:d} harmonics, P_LS = {:.8f}'.format( # complete"
   ]
  },
  {
   "cell_type": "markdown",
   "metadata": {
    "slideshow": {
     "slide_type": "slide"
    }
   },
   "source": [
    "Interestingly, for the $n=2, 3, 4$ harmonics, it appears as though we get the period that we have visually confirmed. However, by $n=5$ harmonics we no longer get a reasonable answer. Again - be very careful about adding harmonics, especially in large analysis pipelines.\n",
    "\n",
    "What does the $n = 4$ model look like?"
   ]
  },
  {
   "cell_type": "code",
   "execution_count": null,
   "metadata": {
    "slideshow": {
     "slide_type": "slide"
    }
   },
   "outputs": [],
   "source": [
    "best_period = 0.73508568\n",
    "\n",
    "fig, ax = plt.subplots()\n",
    "\n",
    "ax.errorbar((data['hjd'])/best_period % 1, data['mag'], data['mag_unc'], fmt='o',zorder=-1)\n",
    "ax.plot(np.linspace(0,1,1000), \n",
    "        LombScargle(data['hjd'],data['mag'], data['mag_unc'], \n",
    "                    nterms=4).model(np.linspace(0,1,1000)*best_period, 1/best_period) )\n",
    "ax.set_xlabel('Phase')\n",
    "ax.set_ylabel('V (mag)')\n",
    "ax.set_ylim(ax.get_ylim()[::-1])\n",
    "fig.tight_layout()"
   ]
  },
  {
   "cell_type": "markdown",
   "metadata": {
    "slideshow": {
     "slide_type": "slide"
    }
   },
   "source": [
    "This example also shows why it is somewhat strange to provide an uncertainty with a LS best-fit period. Errors tend to be catastrophic, and not some small fractional percentage, with the LS periodogram.\n",
    "\n",
    "In the case of the above EB, the \"best-fit\" period was off by a factor 2. This is not isolated to EBs, however, LS periodograms frequently identify a correct harmonic of the true period, but not the actual period of variability. "
   ]
  },
  {
   "cell_type": "markdown",
   "metadata": {
    "slideshow": {
     "slide_type": "slide"
    }
   },
   "source": [
    "## Conclusions\n",
    "\n",
    "The Lomb-Scargle periodogram is a useful tool to search for *sinusoidal* signals in noisy, irregular data. \n",
    "\n",
    "However, as highlighted throughout, there are many ways in which the methodology can run awry."
   ]
  },
  {
   "cell_type": "markdown",
   "metadata": {
    "slideshow": {
     "slide_type": "slide"
    }
   },
   "source": [
    "In closing, I will summarize some practical considerations from VanderPlas (2017): \n",
    "\n",
    "  1. Choose an appropriate frequency grid (defaults in `LombScargle` are not sufficient)\n",
    "  2. Calculate the LS periodogram for the observation times to search for dominant signals (e.g., 1 day in astro)\n",
    "  3. Compute LS periodogram for data (avoid multi-Fourier models if signal unknown)\n",
    "  4. Plot periodogram and various FAP levels (do not over-interpret FAP)\n",
    "  5. If window function shows strong aliasing, plot phased light curve at each peak (now add more Fourier terms if necessary)\n",
    "  6. If looking for a particular signal (e.g., detatched EBs), consider different methods that better match expected signal\n",
    "  7. Inject fake signals into data to understand systematics if using LS in a survey pipeline"
   ]
  },
  {
   "cell_type": "markdown",
   "metadata": {
    "slideshow": {
     "slide_type": "slide"
    }
   },
   "source": [
    "### Finally, Finally\n",
    "\n",
    "As a very last note: know that there are many different ways to search for periodicity in astronomical data. Depending on your application (and computational resources), LS may be a poor choice (even though this is often the default choice by all astronomers!) [Graham et al. (2013)](http://adsabs.harvard.edu/abs/2013MNRAS.434.3423G) provides a summary of several methods using actual astronomical data. The results of that study show that no single method is best. However, they also show that no single method performs particularly well: the detection efficiences in Graham et al. (2013) are disappointing given the importance of periodicity in astronomical signals.\n",
    "\n",
    "Period detection is a fundamental problem for astronomical time-series, but it is especially difficult in \"production\" mode. Be careful when setting up pipelines to analyze large datasets.  "
   ]
  },
  {
   "cell_type": "markdown",
   "metadata": {
    "slideshow": {
     "slide_type": "slide"
    }
   },
   "source": [
    "**Challenge Problem**\n",
    "\n",
    "Alter `gen_periodic_data` to create signals with 4 harmonics. \n",
    "\n",
    "Using our prescription for a simulated \"realistic\" astronomical cadence (see above), simulate 2 years worth of survey data for 1000 simulated stars with periods drawn randomly from [0.2, 10], amplitude=1, and variance of the noise=0.01. \n",
    "\n",
    "Compare the best-fit LS period to the simulated period. Do you notice any particular trends?"
   ]
  },
  {
   "cell_type": "code",
   "execution_count": null,
   "metadata": {
    "collapsed": true,
    "slideshow": {
     "slide_type": "skip"
    }
   },
   "outputs": [],
   "source": []
  },
  {
   "cell_type": "markdown",
   "metadata": {
    "slideshow": {
     "slide_type": "skip"
    }
   },
   "source": [
    "## Code from [PracticalLombScargle](https://github.com/jakevdp/PracticalLombScargle/) by Jake Van der Plas\n",
    "\n",
    "The functions below implement plotting routines developed by Jake to illustrate some properties of Fourier transforms. \n",
    "\n",
    "This code is distributed under a BSD-3 licence, which is repeated below: \n",
    "\n",
    "Copyright (c) 2015, Jake Vanderplas\n",
    "All rights reserved.\n",
    "\n",
    "Redistribution and use in source and binary forms, with or without\n",
    "modification, are permitted provided that the following conditions are met:\n",
    "\n",
    "* Redistributions of source code must retain the above copyright notice, this\n",
    "  list of conditions and the following disclaimer.\n",
    "\n",
    "* Redistributions in binary form must reproduce the above copyright notice,\n",
    "  this list of conditions and the following disclaimer in the documentation\n",
    "  and/or other materials provided with the distribution.\n",
    "\n",
    "* Neither the name of PracticalLombScargle nor the names of its\n",
    "  contributors may be used to endorse or promote products derived from\n",
    "  this software without specific prior written permission.\n",
    "\n",
    "THIS SOFTWARE IS PROVIDED BY THE COPYRIGHT HOLDERS AND CONTRIBUTORS \"AS IS\"\n",
    "AND ANY EXPRESS OR IMPLIED WARRANTIES, INCLUDING, BUT NOT LIMITED TO, THE\n",
    "IMPLIED WARRANTIES OF MERCHANTABILITY AND FITNESS FOR A PARTICULAR PURPOSE ARE\n",
    "DISCLAIMED. IN NO EVENT SHALL THE COPYRIGHT HOLDER OR CONTRIBUTORS BE LIABLE\n",
    "FOR ANY DIRECT, INDIRECT, INCIDENTAL, SPECIAL, EXEMPLARY, OR CONSEQUENTIAL\n",
    "DAMAGES (INCLUDING, BUT NOT LIMITED TO, PROCUREMENT OF SUBSTITUTE GOODS OR\n",
    "SERVICES; LOSS OF USE, DATA, OR PROFITS; OR BUSINESS INTERRUPTION) HOWEVER\n",
    "CAUSED AND ON ANY THEORY OF LIABILITY, WHETHER IN CONTRACT, STRICT LIABILITY,\n",
    "OR TORT (INCLUDING NEGLIGENCE OR OTHERWISE) ARISING IN ANY WAY OUT OF THE USE\n",
    "OF THIS SOFTWARE, EVEN IF ADVISED OF THE POSSIBILITY OF SUCH DAMAGE."
   ]
  },
  {
   "cell_type": "code",
   "execution_count": 2,
   "metadata": {
    "collapsed": true,
    "slideshow": {
     "slide_type": "skip"
    }
   },
   "outputs": [],
   "source": [
    "def fourier_pairs_plot():\n",
    "    \n",
    "    fig, ax = plt.subplots(4, 2, figsize=(10, 6))\n",
    "    fig.subplots_adjust(left=0.04, right=0.98, bottom=0.02, top=0.95,\n",
    "                        hspace=0.3, wspace=0.2)\n",
    "\n",
    "    x = np.linspace(-5, 5, 1000)\n",
    "\n",
    "    for axi in ax.flat:\n",
    "        axi.xaxis.set_major_formatter(plt.NullFormatter())\n",
    "        axi.yaxis.set_major_formatter(plt.NullFormatter())\n",
    "\n",
    "        # draw center line\n",
    "        axi.axvline(0, linestyle='dotted', color='gray')\n",
    "        axi.axhline(0, linestyle='dotted', color='gray')\n",
    "\n",
    "    style_re = dict(linestyle='solid', color='k', linewidth=2)\n",
    "    style_im = dict(linestyle='solid', color='gray', linewidth=2)\n",
    "    text_style = dict(size=14, color='gray')\n",
    "\n",
    "\n",
    "    # sine -> delta\n",
    "    ax[0, 0].plot(x, np.cos(x),**style_re)\n",
    "    ax[0, 0].set(xlim=(-5, 5), ylim=(-1.2, 1.2))\n",
    "    ax[0, 0].annotate('', (-np.pi, 0), (np.pi, 0),\n",
    "                      arrowprops=dict(arrowstyle='|-|', color='gray'))\n",
    "    ax[0, 0].text(0, 0, '$1/f_0$', ha='center', va='bottom', **text_style)\n",
    "    ax[0, 0].set_title('Sinusoid')\n",
    "\n",
    "    ax[0, 1].plot([-5, 2, 2, 2, 5], [0, 0, 1, 0, 0], **style_re)\n",
    "    ax[0, 1].plot([-5, -2, -2, -2, 5], [0, 0, 1, 0, 0], **style_re)\n",
    "    ax[0, 1].set(xlim=(-5, 5), ylim=(-0.2, 1.2))\n",
    "    ax[0, 1].annotate('', (0, 0.4), (2, 0.4), arrowprops=dict(arrowstyle='<-', color='gray'))\n",
    "    ax[0, 1].annotate('', (0, 0.4), (-2, 0.4), arrowprops=dict(arrowstyle='<-', color='gray'))\n",
    "    ax[0, 1].text(1, 0.45, '$+f_0$', ha='center', va='bottom', **text_style)\n",
    "    ax[0, 1].text(-1, 0.45, '$-f_0$', ha='center', va='bottom', **text_style)\n",
    "    ax[0, 1].set_title('Delta Functions')\n",
    "\n",
    "    # gaussian -> gaussian\n",
    "    ax[1, 0].plot(x, np.exp(-(2 * x) ** 2), **style_re)\n",
    "    ax[1, 0].set(xlim=(-5, 5), ylim=(-0.2, 1.2))\n",
    "    ax[1, 0].annotate('', (0, 0.35), (0.6, 0.35), arrowprops=dict(arrowstyle='<-', color='gray'))\n",
    "    ax[1, 0].text(0, 0.4, '$\\sigma$', ha='center', va='bottom', **text_style)\n",
    "    ax[1, 0].set_title('Gaussian')\n",
    "\n",
    "    ax[1, 1].plot(x, np.exp(-(x / 2) ** 2), **style_re)\n",
    "    ax[1, 1].set(xlim=(-5, 5), ylim=(-0.2, 1.2))\n",
    "    ax[1, 1].annotate('', (0, 0.35), (2, 0.35), arrowprops=dict(arrowstyle='<-', color='gray'))\n",
    "    ax[1, 1].text(0, 0.4, '$(2\\pi\\sigma)^{-1}$', ha='center', va='bottom', **text_style)\n",
    "    ax[1, 1].set_title('Gaussian')\n",
    "\n",
    "    # top hat -> sinc\n",
    "    ax[2, 0].plot([-2, -1, -1, 1, 1, 2], [0, 0, 1, 1, 0, 0], **style_re)\n",
    "    ax[2, 0].set(xlim=(-2, 2), ylim=(-0.3, 1.2))\n",
    "    ax[2, 0].annotate('', (-1, 0.5), (1, 0.5), arrowprops=dict(arrowstyle='<->', color='gray'))\n",
    "    ax[2, 0].text(0.0, 0.5, '$T$', ha='center', va='bottom', **text_style)\n",
    "    ax[2, 0].set_title('Top Hat')\n",
    "\n",
    "    ax[2, 1].plot(x, np.sinc(x), **style_re)\n",
    "    ax[2, 1].set(xlim=(-5, 5), ylim=(-0.3, 1.2))\n",
    "    ax[2, 1].annotate('', (-1, 0), (1, 0), arrowprops=dict(arrowstyle='<->', color='gray'))\n",
    "    ax[2, 1].text(0.0, 0.0, '$2/T$', ha='center', va='bottom', **text_style)\n",
    "    ax[2, 1].set_title('Sinc')\n",
    "\n",
    "    # comb -> comb\n",
    "    ax[3, 0].plot([-5.5] + sum((3 * [i] for i in range(-5, 6)), []) + [5.5],\n",
    "                  [0] + 11 * [0, 1, 0] + [0], **style_re)\n",
    "    ax[3, 0].set(xlim=(-5.5, 5.5), ylim=(-0.2, 1.2))\n",
    "    ax[3, 0].annotate('', (0, 0.5), (1, 0.5), arrowprops=dict(arrowstyle='<->', color='gray'))\n",
    "    ax[3, 0].text(0.5, 0.6, '$T$', ha='center', va='bottom', **text_style)\n",
    "    ax[3, 0].set_title('Dirac Comb')\n",
    "\n",
    "    ax[3, 1].plot([-5.5] + sum((3 * [i] for i in range(-5, 6)), []) + [5.5],\n",
    "                  [0] + 11 * [0, 1, 0] + [0], **style_re)\n",
    "    ax[3, 1].set(xlim=(-2.5, 2.5), ylim=(-0.2, 1.2));\n",
    "    ax[3, 1].annotate('', (0, 0.5), (1, 0.5), arrowprops=dict(arrowstyle='<->', color='gray'))\n",
    "    ax[3, 1].text(0.5, 0.6, '$1/T$', ha='center', va='bottom', **text_style)\n",
    "    ax[3, 1].set_title('Dirac Comb')\n",
    "\n",
    "    for i, letter in enumerate('abcd'):\n",
    "        ax[i, 0].set_ylabel('({0})'.format(letter), rotation=0)\n",
    "\n",
    "    # Draw arrows between pairs of axes\n",
    "    for i in range(4):\n",
    "        left = ax[i, 0].bbox.inverse_transformed(fig.transFigure).bounds\n",
    "        right = ax[i, 1].bbox.inverse_transformed(fig.transFigure).bounds\n",
    "        x = 0.5 * (left[0] + left[2] + right[0])\n",
    "        y = left[1] + 0.5 * left[3]\n",
    "        fig.text(x, y, r'$\\Longleftrightarrow$',\n",
    "                 ha='center', va='center', size=30)"
   ]
  }
 ],
 "metadata": {
  "celltoolbar": "Slideshow",
  "kernelspec": {
   "display_name": "Python 3",
   "language": "python",
   "name": "python3"
  },
  "language_info": {
   "codemirror_mode": {
    "name": "ipython",
    "version": 3
   },
   "file_extension": ".py",
   "mimetype": "text/x-python",
   "name": "python",
   "nbconvert_exporter": "python",
   "pygments_lexer": "ipython3",
   "version": "3.6.8"
  }
 },
 "nbformat": 4,
 "nbformat_minor": 2
}
